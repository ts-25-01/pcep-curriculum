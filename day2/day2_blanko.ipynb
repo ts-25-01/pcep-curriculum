{
 "cells": [
  {
   "cell_type": "markdown",
   "metadata": {},
   "source": [
    "**Verkettung von Vergleichen:**\n",
    "Python erlaubt die Verkettung von Vergleichsoperatoren, was die Lesbarkeit verbessert."
   ]
  },
  {
   "cell_type": "markdown",
   "metadata": {},
   "source": [
    "# Python Datentypen und Operationen\n",
    "\n",
    "## Strukturierter Leitfaden für PCEP-Prüfungsvorbereitung - Tag 2\n",
    "\n",
    "### Inhaltsverzeichnis\n",
    "1. [Grundlegende Datentypen](#Grundlegende-Datentypen)\n",
    "   - [Literale und Variablen](#Literale-und-Variablen)\n",
    "   - [Numerische Typen (int, float)](#Numerische-Typen-(int,-float))\n",
    "   - [Strings und ihre Grundoperationen](#Strings-und-ihre-Grundoperationen)\n",
    "2. [Operatoren und Ausdrücke](#Operatoren-und-Ausdrücke)\n",
    "   - [Arithmetische Operatoren und ihre Priorität](#Arithmetische-Operatoren-und-ihre-Priorität)\n",
    "   - [Vergleichs- und logische Operatoren](#Vergleichs--und-logische-Operatoren)\n",
    "3. [Typkonvertierung](#Typkonvertierung)\n",
    "   - [Implizite und explizite Typkonvertierung](#Implizite-und-explizite-Typkonvertierung)\n",
    "   - [Typüberprüfung](#Typüberprüfung)\n",
    "4. [Leitfragen](#Leitfragen)\n",
    "5. [Übungsaufgaben](#Übungsaufgaben)"
   ]
  },
  {
   "cell_type": "markdown",
   "metadata": {},
   "source": [
    "**Empfehlung:**\n",
    "Verwende Klammern, um die Lesbarkeit zu verbessern und Zweifel an der Auswertungsreihenfolge zu vermeiden, auch wenn sie mathematisch nicht unbedingt erforderlich sind."
   ]
  },
  {
   "cell_type": "markdown",
   "metadata": {},
   "source": [
    "## Grundlegende Datentypen\n",
    "\n",
    "### Literale und Variablen\n",
    "\n",
    "#### 📝 Was sind Literale?\n",
    "\n",
    "Literale sind feste Werte, die direkt im Code erscheinen. Sie stellen konstante Werte dar, die sich nicht ändern.\n",
    "\n",
    "**Beispiele für Literale in Python:**\n",
    "\n",
    "- Ganzzahlen: `42`, `7`, `0`\n",
    "- Fließkommazahlen: `3.14`, `2.5`, `1.0`\n",
    "- Strings: `\"Hallo\"`, `'Python'`, `\"\"\"Mehrzeiliger Text\"\"\"`\n",
    "- Boolesche Werte: `True`, `False`\n",
    "- Spezialwert: `None`\n",
    "- Kollektionen: `[1, 2, 3]` (Liste), `(1, 2, 3)` (Tupel), `{1, 2, 3}` (Set), `{\"a\": 1, \"b\": 2}` (Dictionary)"
   ]
  },
  {
   "cell_type": "markdown",
   "metadata": {},
   "source": [
    "#### 📝 Was sind Variablen?\n",
    "\n",
    "Variablen sind benannte Speicherplätze, die Werte enthalten können. Der Wert einer Variable kann sich während der Programmausführung ändern."
   ]
  },
  {
   "cell_type": "code",
   "execution_count": null,
   "metadata": {},
   "outputs": [
    {
     "ename": "",
     "evalue": "",
     "output_type": "error",
     "traceback": [
      "\u001b[1;31mRunning cells with 'Python 3.13.2' requires the ipykernel package.\n",
      "\u001b[1;31mRun the following command to install 'ipykernel' into the Python environment. \n",
      "\u001b[1;31mCommand: '/opt/homebrew/bin/python3 -m pip install ipykernel -U --user --force-reinstall'"
     ]
    }
   ],
   "source": [
    "# Variablendeklaration und Zuweisung in einem Schritt\n",
    "name = \"Alice\"\n",
    "alter = 30\n",
    "gewicht = 65.5\n",
    "ist_student = True\n",
    "\n",
    "# Mehrfachzuweisung\n",
    "a = b = c = 0  # a, b und c werden auf 0 gesetzt\n",
    "x, y, z = 1, 2, 3  # x wird 1, y wird 2, z wird 3\n",
    "\n",
    "# Ausgabe der Variablen\n",
    "print(f\"Name: {name}, Alter: {alter}, Gewicht: {gewicht}, Student: {ist_student}\")\n",
    "print(f\"a={a}, b={b}, c={c}, x={x}, y={y}, z={z}\")"
   ]
  },
  {
   "cell_type": "markdown",
   "metadata": {},
   "source": [
    "**Namenskonventionen für Variablen:**\n",
    "\n",
    "- Variablennamen können Buchstaben, Ziffern und Unterstriche enthalten\n",
    "- Sie müssen mit einem Buchstaben oder Unterstrich beginnen\n",
    "- Groß- und Kleinschreibung wird unterschieden (case-sensitive)\n",
    "- Python-Schlüsselwörter können nicht als Variablennamen verwendet werden\n",
    "\n",
    "**Empfohlener Stil (PEP 8):**\n",
    "\n",
    "- Verwende Kleinbuchstaben mit Unterstrichen für Variablennamen (snake_case)\n",
    "- Klassennamen beginnen mit Großbuchstaben (CamelCase)\n",
    "- Konstanten werden komplett in Großbuchstaben geschrieben"
   ]
  },
  {
   "cell_type": "code",
   "execution_count": null,
   "metadata": {},
   "outputs": [],
   "source": [
    "# Gute Variablennamen (klar und beschreibend)\n",
    "benutzer_name = \"max_mustermann\"\n",
    "gesamtsumme = 1250.75\n",
    "ist_aktiv = True\n",
    "\n",
    "# Schlechte Variablennamen (unklar oder missverständlich)\n",
    "x = \"max_mustermann\"  # Nicht beschreibend\n",
    "GesamtSumme = 1250.75  # Inkonsistente Großschreibung\n",
    "ISTAKTIV = True  # Sieht wie eine Konstante aus, ist aber keine\n",
    "\n",
    "print(f\"Gute Namen: {benutzer_name}, {gesamtsumme}, {ist_aktiv}\")\n",
    "print(f\"Schlechte Namen: {x}, {GesamtSumme}, {ISTAKTIV}\")"
   ]
  },
  {
   "cell_type": "markdown",
   "metadata": {},
   "source": [
    "### Numerische Typen (int, float)\n",
    "\n",
    "#### 📝 Ganzzahlen (int)\n",
    "\n",
    "Ganzzahlen (Integer) sind Zahlen ohne Dezimalteil. Sie können positive, negative oder Null-Werte haben.\n",
    "\n",
    "**Eigenschaften von int:**\n",
    "\n",
    "- Unbegrenzter Wertebereich (begrenzt nur durch den verfügbaren Speicher)\n",
    "- Unterstützt verschiedene Zahlensysteme:\n",
    "    - Dezimal: `42`\n",
    "    - Binär: `0b101010` (entspricht 42 dezimal)\n",
    "    - Oktal: `0o52` (entspricht 42 dezimal)\n",
    "    - Hexadezimal: `0x2A` (entspricht 42 dezimal)"
   ]
  },
  {
   "cell_type": "code",
   "execution_count": null,
   "metadata": {},
   "outputs": [],
   "source": [
    "# Integer-Literale\n",
    "a = 42         # Dezimal\n",
    "b = -73        # Negative Zahl\n",
    "c = 0          # Null\n",
    "d = 0b101010   # Binär (= 42 dezimal)\n",
    "e = 0o52       # Oktal (= 42 dezimal)\n",
    "f = 0x2A       # Hexadezimal (= 42 dezimal)\n",
    "\n",
    "# Große Zahlen (Unterstriche für bessere Lesbarkeit)\n",
    "million = 1_000_000  # Entspricht 1000000\n",
    "\n",
    "print(f\"a = {a}, b = {b}, c = {c}\")\n",
    "print(f\"Binär: {d}, Oktal: {e}, Hexadezimal: {f}\")\n",
    "print(f\"Eine Million: {million}\")"
   ]
  },
  {
   "cell_type": "markdown",
   "metadata": {},
   "source": [
    "#### 📝 Fließkommazahlen (float)\n",
    "\n",
    "Fließkommazahlen (Floating-Point Numbers) sind Zahlen mit einem Dezimalteil. Sie werden für reelle Zahlen verwendet.\n",
    "\n",
    "**Eigenschaften von float:**\n",
    "\n",
    "- Begrenzte Präzision (normalerweise 15-17 signifikante Stellen)\n",
    "- Können in wissenschaftlicher Notation geschrieben werden\n",
    "- Spezielle Werte: `inf` (Unendlich), `-inf` (negativ Unendlich), `nan` (Not a Number)"
   ]
  },
  {
   "cell_type": "code",
   "execution_count": null,
   "metadata": {},
   "outputs": [],
   "source": [
    "# Float-Literale\n",
    "a = 3.14       # Dezimalpunkt\n",
    "b = -2.5       # Negative Zahl\n",
    "c = 1.0        # Ganzzahl als Float\n",
    "d = 1e6        # Wissenschaftliche Notation (1 * 10^6 = 1000000.0)\n",
    "e = 1.23e-4    # Kleine Zahl (0.000123)\n",
    "\n",
    "# Spezielle Werte\n",
    "unendlich = float('inf')\n",
    "not_a_number = float('nan')\n",
    "\n",
    "print(f\"a = {a}, b = {b}, c = {c}\")\n",
    "print(f\"Wissenschaftliche Notation: d = {d}, e = {e}\")\n",
    "print(f\"Spezielle Werte: unendlich = {unendlich}, not_a_number = {not_a_number}\")\n",
    "\n",
    "# Achtung bei Genauigkeit\n",
    "print(f\"0.1 + 0.2 = {0.1 + 0.2}\")  # Ergibt 0.30000000000000004, nicht exakt 0.3!"
   ]
  },
  {
   "cell_type": "markdown",
   "metadata": {},
   "source": [
    "**Hinweis zur Genauigkeit:**\n",
    "Fließkommazahlen sind nicht immer exakt, da sie intern im binären Format gespeichert werden. Dies kann zu überraschenden Rundungsfehlern führen."
   ]
  },
  {
   "cell_type": "markdown",
   "metadata": {},
   "source": [
    "### Strings und ihre Grundoperationen\n",
    "\n",
    "Strings sind Sequenzen von Zeichen und werden zur Darstellung von Text verwendet.\n",
    "\n",
    "#### 📝 String-Erstellung"
   ]
  },
  {
   "cell_type": "code",
   "execution_count": null,
   "metadata": {},
   "outputs": [],
   "source": [
    "# String-Literale\n",
    "name1 = 'Alice'             # Einfache Anführungszeichen\n",
    "name2 = \"Bob\"               # Doppelte Anführungszeichen\n",
    "satz = \"Alice sagt: 'Hallo Bob!'\"  # Anführungszeichen in Strings\n",
    "\n",
    "# Mehrzeilige Strings\n",
    "text = \"\"\"Dies ist ein\n",
    "mehrzeiliger String.\n",
    "Er kann über mehrere Zeilen gehen.\"\"\"\n",
    "\n",
    "# Raw Strings (ignorieren Escape-Sequenzen)\n",
    "pfad = r\"C:\\Users\\Name\\Documents\"  # Backslashes werden nicht als Escape interpretiert\n",
    "\n",
    "print(f\"name1 = {name1}, name2 = {name2}\")\n",
    "print(f\"satz = {satz}\")\n",
    "print(f\"text = {text}\")\n",
    "print(f\"pfad = {pfad}\")"
   ]
  },
  {
   "cell_type": "markdown",
   "metadata": {},
   "source": [
    "#### 📝 Escape-Sequenzen"
   ]
  },
  {
   "cell_type": "code",
   "execution_count": null,
   "metadata": {},
   "outputs": [],
   "source": [
    "# Häufige Escape-Sequenzen\n",
    "print(\"Zeilenumbruch:\\nZweite Zeile\")  # \\n für Zeilenumbruch\n",
    "print(\"Tabulator:\\tEingerückt\")        # \\t für Tabulator\n",
    "print(\"Anführungszeichen: \\\"Zitat\\\"\")  # \\\" für Anführungszeichen\n",
    "print(\"Backslash: \\\\\")                 # \\\\ für Backslash"
   ]
  },
  {
   "cell_type": "markdown",
   "metadata": {},
   "source": [
    "#### 📝 String-Indizierung und Slicing"
   ]
  },
  {
   "cell_type": "code",
   "execution_count": null,
   "metadata": {},
   "outputs": [],
   "source": [
    "text = \"Python\"\n",
    "\n",
    "# Indizierung (beginnt bei 0)\n",
    "print(f\"text[0] = {text[0]}\")   # 'P' - erstes Zeichen\n",
    "print(f\"text[2] = {text[2]}\")   # 't' - drittes Zeichen\n",
    "print(f\"text[-1] = {text[-1]}\")  # 'n' - letztes Zeichen\n",
    "print(f\"text[-2] = {text[-2]}\")  # 'o' - vorletztes Zeichen\n",
    "\n",
    "# Slicing (Teilstrings) - Format: [start:ende:schritt]\n",
    "print(f\"text[0:2] = {text[0:2]}\")    # 'Py' - Zeichen von Index 0 bis 1\n",
    "print(f\"text[2:5] = {text[2:5]}\")    # 'tho' - Zeichen von Index 2 bis 4\n",
    "print(f\"text[:3] = {text[:3]}\")     # 'Pyt' - vom Anfang bis Index 2\n",
    "print(f\"text[3:] = {text[3:]}\")     # 'hon' - von Index 3 bis Ende\n",
    "print(f\"text[::2] = {text[::2]}\")    # 'Pto' - jedes zweite Zeichen\n",
    "print(f\"text[::-1] = {text[::-1]}\")   # 'nohtyP' - rückwärts"
   ]
  },
  {
   "cell_type": "markdown",
   "metadata": {},
   "source": [
    "#### 📝 String-Operationen\n",
    "\n",
    "**Verkettung (Concatenation):**"
   ]
  },
  {
   "cell_type": "code",
   "execution_count": null,
   "metadata": {},
   "outputs": [],
   "source": [
    "vorname = \"Max\"\n",
    "nachname = \"Mustermann\"\n",
    "vollname = vorname + \" \" + nachname  # \"Max Mustermann\"\n",
    "\n",
    "# Multiplikation\n",
    "wiederholung = \"Ha\" * 3  # \"HaHaHa\"\n",
    "\n",
    "print(f\"vollname = {vollname}\")\n",
    "print(f\"wiederholung = {wiederholung}\")\n",
    "\n",
    "# Länge eines Strings\n",
    "text = \"Python\"\n",
    "laenge = len(text)  # 6\n",
    "print(f\"Länge von '{text}' = {laenge}\")"
   ]
  },
  {
   "cell_type": "markdown",
   "metadata": {},
   "source": [
    "**String-Methoden:**"
   ]
  },
  {
   "cell_type": "code",
   "execution_count": null,
   "metadata": {},
   "outputs": [],
   "source": [
    "text = \"Python Programmierung\"\n",
    "\n",
    "# Groß-/Kleinschreibung\n",
    "print(f\"text.upper() = {text.upper()}\")      # \"PYTHON PROGRAMMIERUNG\"\n",
    "print(f\"text.lower() = {text.lower()}\")      # \"python programmierung\"\n",
    "print(f\"text.capitalize() = {text.capitalize()}\") # \"Python programmierung\"\n",
    "print(f\"text.title() = {text.title()}\")      # \"Python Programmierung\"\n",
    "\n",
    "# Suchen und Ersetzen\n",
    "print(f\"text.find('Pro') = {text.find('Pro')}\")  # 7 - Index des ersten Vorkommens\n",
    "print(f\"text.count('m') = {text.count('m')}\")   # 2 - Anzahl der Vorkommen\n",
    "print(f\"text.replace('Python', 'Java') = {text.replace('Python', 'Java')}\")  # \"Java Programmierung\"\n",
    "\n",
    "# Überprüfungen\n",
    "print(f\"'Python'.isalpha() = {'Python'.isalpha()}\")   # True - nur Buchstaben\n",
    "print(f\"'Python3'.isalpha() = {'Python3'.isalpha()}\")  # False - enthält Ziffern\n",
    "print(f\"'123'.isdigit() = {'123'.isdigit()}\")      # True - nur Ziffern\n",
    "print(f\"'Python'.startswith('Py') = {'Python'.startswith('Py')}\")  # True\n",
    "print(f\"'Python'.endswith('on') = {'Python'.endswith('on')}\")    # True\n",
    "\n",
    "# Teilen und Verbinden\n",
    "wortliste = text.split(\" \")  # [\"Python\", \"Programmierung\"]\n",
    "neuer_text = \"-\".join(wortliste)  # \"Python-Programmierung\"\n",
    "print(f\"text.split(' ') = {wortliste}\")\n",
    "print(f\"'-'.join(wortliste) = {neuer_text}\")\n",
    "\n",
    "# Whitespace entfernen\n",
    "print(f\"'  Python  '.strip() = {'  Python  '.strip()}\")    # \"Python\"\n",
    "print(f\"'  Python  '.lstrip() = {'  Python  '.lstrip()}\")   # \"Python  \"\n",
    "print(f\"'  Python  '.rstrip() = {'  Python  '.rstrip()}\")   # \"  Python\""
   ]
  },
  {
   "cell_type": "markdown",
   "metadata": {},
   "source": [
    "**String-Formatierung:**\n",
    "\n",
    "1. F-Strings (ab Python 3.6, empfohlen):"
   ]
  },
  {
   "cell_type": "code",
   "execution_count": null,
   "metadata": {},
   "outputs": [],
   "source": [
    "name = \"Alice\"\n",
    "alter = 30\n",
    "print(f\"Name: {name}, Alter: {alter}\")  # \"Name: Alice, Alter: 30\"\n",
    "print(f\"2 + 2 = {2 + 2}\")               # \"2 + 2 = 4\"\n",
    "print(f\"{name.upper()} ist {alter} Jahre alt.\")  # \"ALICE ist 30 Jahre alt.\"\n",
    "print(f\"Pi ist ungefähr {3.14159:.2f}\")  # \"Pi ist ungefähr 3.14\""
   ]
  },
  {
   "cell_type": "markdown",
   "metadata": {},
   "source": [
    "2. format()-Methode:"
   ]
  },
  {
   "cell_type": "code",
   "execution_count": null,
   "metadata": {},
   "outputs": [],
   "source": [
    "print(\"Name: {}, Alter: {}\".format(name, alter))  # \"Name: Alice, Alter: 30\"\n",
    "print(\"Name: {0}, Alter: {1}\".format(name, alter))  # \"Name: Alice, Alter: 30\"\n",
    "print(\"Name: {n}, Alter: {a}\".format(n=name, a=alter))  # \"Name: Alice, Alter: 30\""
   ]
  },
  {
   "cell_type": "markdown",
   "metadata": {},
   "source": [
    "3. %-Formatierung (ältere Methode):"
   ]
  },
  {
   "cell_type": "code",
   "execution_count": null,
   "metadata": {},
   "outputs": [],
   "source": [
    "print(\"Name: %s, Alter: %d\" % (name, alter))  # \"Name: Alice, Alter: 30\""
   ]
  },
  {
   "cell_type": "markdown",
   "metadata": {},
   "source": [
    "**Unveränderlichkeit (Immutability):**\n",
    "\n",
    "Strings sind in Python unveränderlich (immutable), d.h. nach der Erstellung kann ein String nicht geändert werden."
   ]
  },
  {
   "cell_type": "code",
   "execution_count": null,
   "metadata": {},
   "outputs": [],
   "source": [
    "text = \"Python\"\n",
    "# text[0] = \"J\"  # Dies würde einen TypeError verursachen\n",
    "\n",
    "# Stattdessen wird ein neuer String erstellt\n",
    "text = \"J\" + text[1:]  # \"Jython\"\n",
    "print(text)"
   ]
  },
  {
   "cell_type": "markdown",
   "metadata": {},
   "source": [
    "## Operatoren und Ausdrücke\n",
    "\n",
    "### Arithmetische Operatoren und ihre Priorität\n",
    "\n",
    "Arithmetische Operatoren werden verwendet, um mathematische Berechnungen durchzuführen.\n",
    "\n",
    "#### 📝 Grundlegende arithmetische Operatoren\n",
    "\n",
    "| Operator | Beschreibung | Beispiel | Ergebnis |\n",
    "| --- | --- | --- | --- |\n",
    "| + | Addition | 5 + 3 | 8 |\n",
    "| - | Subtraktion | 5 - 3 | 2 |\n",
    "| * | Multiplikation | 5 * 3 | 15 |\n",
    "| / | Division | 5 / 3 | 1.6666... |\n",
    "| // | Ganzzahldivision | 5 // 3 | 1 |\n",
    "| % | Modulo (Rest) | 5 % 3 | 2 |\n",
    "| ** | Potenzierung | 5 ** 3 | 125 |"
   ]
  },
  {
   "cell_type": "code",
   "execution_count": null,
   "metadata": {},
   "outputs": [],
   "source": [
    "# Grundlegende Operationen\n",
    "a = 10\n",
    "b = 3\n",
    "\n",
    "summe = a + b       # 13\n",
    "differenz = a - b   # 7\n",
    "produkt = a * b     # 30\n",
    "quotient = a / b    # 3.3333...\n",
    "ganzzahl_div = a // b  # 3\n",
    "rest = a % b        # 1\n",
    "potenz = a ** b     # 1000\n",
    "\n",
    "print(f\"{a} + {b} = {summe}\")\n",
    "print(f\"{a} - {b} = {differenz}\")\n",
    "print(f\"{a} * {b} = {produkt}\")\n",
    "print(f\"{a} / {b} = {quotient}\")\n",
    "print(f\"{a} // {b} = {ganzzahl_div}\")\n",
    "print(f\"{a} % {b} = {rest}\")\n",
    "print(f\"{a} ** {b} = {potenz}\")\n",
    "\n",
    "# Kombinierte Operationen\n",
    "ergebnis = (a + b) * 2  # (13) * 2 = 26\n",
    "print(f\"({a} + {b}) * 2 = {ergebnis}\")"
   ]
  },
  {
   "cell_type": "markdown",
   "metadata": {},
   "source": [
    "#### 📝 Zuweisungsoperatoren\n",
    "\n",
    "Zuweisungsoperatoren weisen Variablen Werte zu.\n",
    "\n",
    "| Operator | Beispiel | Äquivalent zu |\n",
    "| --- | --- | --- |\n",
    "| = | x = 5 | x = 5 |\n",
    "| += | x += 3 | x = x + 3 |\n",
    "| -= | x -= 3 | x = x - 3 |\n",
    "| *= | x *= 3 | x = x * 3 |\n",
    "| /= | x /= 3 | x = x / 3 |\n",
    "| //= | x //= 3 | x = x // 3 |\n",
    "| %= | x %= 3 | x = x % 3 |\n",
    "| **= | x **= 3 | x = x ** 3 |"
   ]
  },
  {
   "cell_type": "code",
   "execution_count": null,
   "metadata": {},
   "outputs": [],
   "source": [
    "x = 10\n",
    "print(f\"Startwert: x = {x}\")\n",
    "\n",
    "x += 5    # x = 15\n",
    "print(f\"Nach x += 5: x = {x}\")\n",
    "\n",
    "x -= 3    # x = 12\n",
    "print(f\"Nach x -= 3: x = {x}\")\n",
    "\n",
    "x *= 2    # x = 24\n",
    "print(f\"Nach x *= 2: x = {x}\")\n",
    "\n",
    "x /= 6    # x = 4.0\n",
    "print(f\"Nach x /= 6: x = {x}\")\n",
    "\n",
    "x //= 2   # x = 2.0 (float wegen vorheriger Division)\n",
    "print(f\"Nach x //= 2: x = {x}\")\n",
    "\n",
    "x **= 3   # x = 8.0\n",
    "print(f\"Nach x **= 3: x = {x}\")"
   ]
  },
  {
   "cell_type": "markdown",
   "metadata": {},
   "source": [
    "#### 📝 Operatorpräzedenz (Priorität)\n",
    "\n",
    "Wenn ein Ausdruck mehrere Operatoren enthält, bestimmt die Operatorpräzedenz die Reihenfolge der Auswertung.\n",
    "\n",
    "**Prioritätsreihenfolge (von höchster zu niedrigster):**\n",
    "\n",
    "1. `()` - Klammern\n",
    "2. `**` - Potenzierung\n",
    "3. `+x`, `-x` - Unäres Plus und Minus (Vorzeichen)\n",
    "4. `*`, `/`, `//`, `%` - Multiplikation, Division, Ganzzahldivision, Modulo\n",
    "5. `+`, `-` - Addition, Subtraktion\n",
    "6. `=`, `+=`, `-=`, usw. - Zuweisungen"
   ]
  },
  {
   "cell_type": "code",
   "execution_count": null,
   "metadata": {},
   "outputs": [],
   "source": [
    "# Operator-Präzedenz\n",
    "a = 2 + 3 * 4      # 3 * 4 = 12, dann 2 + 12 = 14\n",
    "b = (2 + 3) * 4    # 2 + 3 = 5, dann 5 * 4 = 20\n",
    "c = 2 ** 3 * 2     # 2 ** 3 = 8, dann 8 * 2 = 16\n",
    "d = 2 * 3 ** 2     # 3 ** 2 = 9, dann 2 * 9 = 18\n",
    "e = 10 / 5 / 2     # 10 / 5 = 2, dann 2 / 2 = 1.0\n",
    "\n",
    "print(f\"2 + 3 * 4 = {a}\")\n",
    "print(f\"(2 + 3) * 4 = {b}\")\n",
    "print(f\"2 ** 3 * 2 = {c}\")\n",
    "print(f\"2 * 3 ** 2 = {d}\")\n",
    "print(f\"10 / 5 / 2 = {e}\")"
   ]
  },
  {
   "cell_type": "markdown",
   "metadata": {},
   "source": [
    "### Vergleichs- und logische Operatoren\n",
    "\n",
    "#### 📝 Vergleichsoperatoren\n",
    "\n",
    "Vergleichsoperatoren vergleichen Werte und geben einen booleschen Wert (`True` oder `False`) zurück.\n",
    "\n",
    "| Operator | Beschreibung | Beispiel | Ergebnis |\n",
    "| --- | --- | --- | --- |\n",
    "| == | Gleich | 5 == 5 | True |\n",
    "| != | Ungleich | 5 != 3 | True |\n",
    "| > | Größer als | 5 > 3 | True |\n",
    "| < | Kleiner als | 5 < 3 | False |\n",
    "| >= | Größer oder gleich | 5 >= 5 | True |\n",
    "| <= | Kleiner oder gleich | 5 <= 3 | False |"
   ]
  },
  {
   "cell_type": "code",
   "execution_count": null,
   "metadata": {},
   "outputs": [],
   "source": [
    "a = 10\n",
    "b = 5\n",
    "c = 10\n",
    "\n",
    "print(f\"{a} == {c}: {a == c}\")  # True - a ist gleich c\n",
    "print(f\"{a} != {b}: {a != b}\")  # True - a ist ungleich b\n",
    "print(f\"{a} > {b}: {a > b}\")   # True - a ist größer als b\n",
    "print(f\"{a} < {b}: {a < b}\")   # False - a ist nicht kleiner als b\n",
    "print(f\"{a} >= {c}: {a >= c}\")  # True - a ist größer oder gleich c\n",
    "print(f\"{b} <= {c}: {b <= c}\")  # True - b ist kleiner oder gleich c"
   ]
  },
  {
   "cell_type": "code",
   "execution_count": null,
   "metadata": {},
   "outputs": [],
   "source": [
    "x = 5\n",
    "# Statt:\n",
    "print(f\"x > 0 and x < 10: {x > 0 and x < 10}\")  # True\n",
    "\n",
    "# Kann man schreiben:\n",
    "print(f\"0 < x < 10: {0 < x < 10}\")  # True"
   ]
  },
  {
   "cell_type": "markdown",
   "metadata": {},
   "source": [
    "#### 📝 Logische Operatoren\n",
    "\n",
    "Logische Operatoren kombinieren boolesche Ausdrücke.\n",
    "\n",
    "| Operator | Beschreibung | Beispiel | Ergebnis |\n",
    "| --- | --- | --- | --- |\n",
    "| and | Logisches UND | True and True | True |\n",
    "| or | Logisches ODER | True or False | True |\n",
    "| not | Logisches NICHT | not True | False |\n",
    "\n",
    "**Wahrheitstabellen:**\n",
    "\n",
    "`and`:\n",
    "\n",
    "| A | B | A and B |\n",
    "| --- | --- | --- |\n",
    "| True | True | True |\n",
    "| True | False | False |\n",
    "| False | True | False |\n",
    "| False | False | False |\n",
    "\n",
    "`or`:\n",
    "\n",
    "| A | B | A or B |\n",
    "| --- | --- | --- |\n",
    "| True | True | True |\n",
    "| True | False | True |\n",
    "| False | True | True |\n",
    "| False | False | False |\n",
    "\n",
    "`not`:\n",
    "\n",
    "| A | not A |\n",
    "| --- | --- |\n",
    "| True | False |\n",
    "| False | True |"
   ]
  },
  {
   "cell_type": "code",
   "execution_count": null,
   "metadata": {},
   "outputs": [],
   "source": [
    "a = True\n",
    "b = False\n",
    "\n",
    "print(f\"a and b = {a and b}\")   # False - beide müssen True sein\n",
    "print(f\"a or b = {a or b}\")    # True - mindestens eines muss True sein\n",
    "print(f\"not a = {not a}\")     # False - Umkehrung von True\n",
    "print(f\"not b = {not b}\")     # True - Umkehrung von False\n",
    "\n",
    "# Kombination von logischen Operatoren\n",
    "print(f\"(a or b) and not b = {(a or b) and not b}\")  # True"
   ]
  },
  {
   "cell_type": "markdown",
   "metadata": {},
   "source": [
    "#### 📝 Kurzschlussauswertung (Short-circuit Evaluation)\n",
    "\n",
    "Python verwendet Kurzschlussauswertung für `and` und `or`, d.h. der zweite Operand wird nur ausgewertet, wenn der erste nicht ausreicht, um das Ergebnis zu bestimmen."
   ]
  },
  {
   "cell_type": "code",
   "execution_count": null,
   "metadata": {},
   "outputs": [],
   "source": [
    "# Bei 'and' wird der zweite Ausdruck nur ausgewertet, wenn der erste True ist\n",
    "x = False and print(\"Dieser Text wird nicht ausgegeben\")  # Nichts wird ausgegeben\n",
    "print(f\"x = {x}\")\n",
    "\n",
    "# Bei 'or' wird der zweite Ausdruck nur ausgewertet, wenn der erste False ist\n",
    "y = True or print(\"Dieser Text wird nicht ausgegeben\")  # Nichts wird ausgegeben\n",
    "print(f\"y = {y}\")"
   ]
  },
  {
   "cell_type": "markdown",
   "metadata": {},
   "source": [
    "#### 📝 Wahrheitswerte von Nicht-Booleschen Typen\n",
    "\n",
    "In Python können auch nicht-boolesche Typen in einem booleschen Kontext verwendet werden.\n",
    "\n",
    "**Als `False` gelten:**\n",
    "\n",
    "- `False` (boolescher Wert)\n",
    "- `None` (Null-Wert)\n",
    "- Numerische Null-Werte: `0`, `0.0`, `0j`\n",
    "- Leere Sequenzen: `''`, `[]`, `()`\n",
    "- Leere Mapping-Typen: `{}`\n",
    "- Leere Sets: `set()`\n",
    "\n",
    "**Alles andere gilt als `True`.**"
   ]
  },
  {
   "cell_type": "code",
   "execution_count": null,
   "metadata": {},
   "outputs": [],
   "source": [
    "# Nicht-boolesche Werte in booleschen Kontexten\n",
    "print(f\"bool(0) = {bool(0)}\")          # False\n",
    "print(f\"bool(42) = {bool(42)}\")         # True\n",
    "print(f\"bool('') = {bool('')}\")         # False\n",
    "print(f\"bool('Python') = {bool('Python')}\")   # True\n",
    "print(f\"bool([]) = {bool([])}\")         # False\n",
    "print(f\"bool([1, 2, 3]) = {bool([1, 2, 3])}\")  # True\n",
    "\n",
    "# In Bedingungen\n",
    "a = 42\n",
    "if a:\n",
    "    print(\"a ist wahr\")  # Wird ausgegeben, da a nicht 0 ist\n",
    "\n",
    "b = \"\"\n",
    "if not b:\n",
    "    print(\"b ist leer\")  # Wird ausgegeben, da b ein leerer String ist"
   ]
  },
  {
   "cell_type": "markdown",
   "metadata": {},
   "source": [
    "## Typkonvertierung\n",
    "\n",
    "### Implizite und explizite Typkonvertierung\n",
    "\n",
    "#### 📝 Implizite Typkonvertierung (Typkoerzion)\n",
    "\n",
    "Python führt in bestimmten Situationen automatisch eine Typkonvertierung durch, ohne dass der Programmierer eingreifen muss."
   ]
  },
  {
   "cell_type": "code",
   "execution_count": null,
   "metadata": {},
   "outputs": [],
   "source": [
    "# Integer + Float ergibt Float\n",
    "a = 5 + 3.14  # a ist 8.14 (Float)\n",
    "print(f\"5 + 3.14 = {a}, Typ: {type(a)}\")\n",
    "\n",
    "# Integer / Integer ergibt Float\n",
    "b = 5 / 2     # b ist 2.5 (Float)\n",
    "print(f\"5 / 2 = {b}, Typ: {type(b)}\")\n",
    "\n",
    "# Boolean in arithmetischen Operationen\n",
    "c = True + 1  # c ist 2 (Integer) - True wird als 1 behandelt\n",
    "d = False + 5 # d ist 5 (Integer) - False wird als 0 behandelt\n",
    "print(f\"True + 1 = {c}, Typ: {type(c)}\")\n",
    "print(f\"False + 5 = {d}, Typ: {type(d)}\")\n",
    "\n",
    "# Multiplikation von String mit Integer\n",
    "e = \"a\" * 3   # e ist \"aaa\" (String)\n",
    "print(f\"'a' * 3 = {e}, Typ: {type(e)}\")"
   ]
  },
  {
   "cell_type": "markdown",
   "metadata": {},
   "source": [
    "**Hinweis:**\n",
    "Python ist strenger als einige andere Sprachen und konvertiert nicht automatisch zwischen unvereinbaren Typen:"
   ]
  },
  {
   "cell_type": "code",
   "execution_count": null,
   "metadata": {},
   "outputs": [],
   "source": [
    "# Dies würde einen TypeError verursachen:\n",
    "# f = \"42\" + 7  # Kann String nicht mit Integer addieren\n",
    "\n",
    "# Stattdessen muss explizite Typkonvertierung erfolgen:\n",
    "f = int(\"42\") + 7  # 49\n",
    "print(f\"int('42') + 7 = {f}\")"
   ]
  },
  {
   "cell_type": "markdown",
   "metadata": {},
   "source": [
    "#### 📝 Explizite Typkonvertierung (Typumwandlung)\n",
    "\n",
    "Der Programmierer kann explizit Typen umwandeln, indem er Typkonvertierungsfunktionen verwendet.\n",
    "\n",
    "**Grundlegende Typkonvertierungsfunktionen:**\n",
    "\n",
    "| Funktion | Beschreibung | Beispiel | Ergebnis |\n",
    "| --- | --- | --- | --- |\n",
    "| int() | Konvertiert zu Integer | int(\"42\") | 42 |\n",
    "| float() | Konvertiert zu Float | float(\"3.14\") | 3.14 |\n",
    "| str() | Konvertiert zu String | str(42) | \"42\" |\n",
    "| bool() | Konvertiert zu Boolean | bool(0) | False |\n",
    "| list() | Konvertiert zu Liste | list(\"abc\") | ['a', 'b', 'c'] |\n",
    "| tuple() | Konvertiert zu Tupel | tuple([1, 2, 3]) | (1, 2, 3) |\n",
    "| set() | Konvertiert zu Set | set([1, 2, 2, 3]) | {1, 2, 3} |"
   ]
  },
  {
   "cell_type": "code",
   "execution_count": null,
   "metadata": {},
   "outputs": [],
   "source": [
    "# String zu Zahl\n",
    "a = int(\"42\")     # 42 (Integer)\n",
    "b = float(\"3.14\") # 3.14 (Float)\n",
    "print(f\"int('42') = {a}, Typ: {type(a)}\")\n",
    "print(f\"float('3.14') = {b}, Typ: {type(b)}\")\n",
    "\n",
    "# Zahl zu String\n",
    "c = str(42)       # \"42\" (String)\n",
    "d = str(3.14)     # \"3.14\" (String)\n",
    "print(f\"str(42) = {c}, Typ: {type(c)}\")\n",
    "print(f\"str(3.14) = {d}, Typ: {type(d)}\")\n",
    "\n",
    "# Rundungsprobleme beachten\n",
    "e = int(3.99)     # 3 (Integer) - schneidet Dezimalteil ab, rundet nicht\n",
    "print(f\"int(3.99) = {e} - Dezimalteil wird abgeschnitten, nicht gerundet\")\n",
    "\n",
    "# Von und zu Boolean\n",
    "f = bool(42)      # True\n",
    "g = bool(0)       # False\n",
    "h = int(True)     # 1\n",
    "i = int(False)    # 0\n",
    "print(f\"bool(42) = {f}, bool(0) = {g}\")\n",
    "print(f\"int(True) = {h}, int(False) = {i}\")\n",
    "\n",
    "# Andere Sequenztypen\n",
    "j = list(\"Python\")        # ['P', 'y', 't', 'h', 'o', 'n']\n",
    "k = tuple([1, 2, 3])      # (1, 2, 3)\n",
    "l = set([1, 2, 2, 3, 3])  # {1, 2, 3} - Duplikate werden entfernt\n",
    "print(f\"list('Python') = {j}\")\n",
    "print(f\"tuple([1, 2, 3]) = {k}\")\n",
    "print(f\"set([1, 2, 2, 3, 3]) = {l} - Duplikate werden entfernt\")"
   ]
  },
  {
   "cell_type": "markdown",
   "metadata": {},
   "source": [
    "**Fehlerbehandlung bei Typkonvertierung:**\n",
    "Nicht alle Konvertierungen sind möglich. Bei ungültigen Konvertierungen wird ein `ValueError` ausgelöst."
   ]
  },
  {
   "cell_type": "code",
   "execution_count": null,
   "metadata": {},
   "outputs": [],
   "source": [
    "# Gültige Konvertierungen\n",
    "print(f\"int('42') = {int('42')}\")       # 42\n",
    "print(f\"float('3.14') = {float('3.14')}\")   # 3.14\n",
    "\n",
    "# Ungültige Konvertierungen würden ValueError verursachen\n",
    "# print(int(\"3.14\"))   # Kann Float-String nicht direkt zu int konvertieren\n",
    "# print(int(\"abc\"))    # Kann nicht-numerischen String nicht zu int konvertieren\n",
    "\n",
    "# Zweistufige Konvertierung\n",
    "print(f\"int(float('3.14')) = {int(float('3.14'))}\")  # 3 - erst zu Float, dann zu Int"
   ]
  },
  {
   "cell_type": "markdown",
   "metadata": {},
   "source": [
    "### Typüberprüfung\n",
    "\n",
    "Python bietet verschiedene Möglichkeiten, den Typ eines Objekts zu überprüfen."
   ]
  },
  {
   "cell_type": "markdown",
   "metadata": {},
   "source": [
    "#### 📝 type()-Funktion\n",
    "\n",
    "Die `type()`-Funktion gibt den Typ eines Objekts zurück."
   ]
  },
  {
   "cell_type": "code",
   "execution_count": null,
   "metadata": {},
   "outputs": [],
   "source": [
    "a = 42\n",
    "b = 3.14\n",
    "c = \"Python\"\n",
    "d = [1, 2, 3]\n",
    "\n",
    "print(f\"type({a}) = {type(a)}\")  # <class 'int'>\n",
    "print(f\"type({b}) = {type(b)}\")  # <class 'float'>\n",
    "print(f\"type('{c}') = {type(c)}\")  # <class 'str'>\n",
    "print(f\"type({d}) = {type(d)}\")  # <class 'list'>"
   ]
  },
  {
   "cell_type": "markdown",
   "metadata": {},
   "source": [
    "#### 📝 isinstance()-Funktion\n",
    "\n",
    "Die `isinstance()`-Funktion prüft, ob ein Objekt eine Instanz einer bestimmten Klasse oder eines Typs ist."
   ]
  },
  {
   "cell_type": "code",
   "execution_count": null,
   "metadata": {},
   "outputs": [],
   "source": [
    "a = 42\n",
    "b = 3.14\n",
    "c = \"Python\"\n",
    "\n",
    "print(f\"isinstance({a}, int) = {isinstance(a, int)}\")    # True\n",
    "print(f\"isinstance({b}, float) = {isinstance(b, float)}\")  # True\n",
    "print(f\"isinstance('{c}', str) = {isinstance(c, str)}\")    # True\n",
    "\n",
    "# Mehrere Typen prüfen\n",
    "print(f\"isinstance({a}, (int, float)) = {isinstance(a, (int, float))}\")  # True - a ist int oder float\n",
    "print(f\"isinstance('{c}', (int, float)) = {isinstance(c, (int, float))}\")  # False - c ist weder int noch float"
   ]
  },
  {
   "cell_type": "markdown",
   "metadata": {},
   "source": [
    "#### 📝 Typspezifische Methoden\n",
    "\n",
    "Manche Typen bieten spezifische Methoden zur Überprüfung von Eigenschaften."
   ]
  },
  {
   "cell_type": "code",
   "execution_count": null,
   "metadata": {},
   "outputs": [],
   "source": [
    "# String-Methoden\n",
    "print(f\"'123'.isdigit() = {'123'.isdigit()}\")      # True - nur Ziffern\n",
    "print(f\"'abc'.isalpha() = {'abc'.isalpha()}\")      # True - nur Buchstaben\n",
    "print(f\"'abc123'.isalnum() = {'abc123'.isalnum()}\")   # True - Buchstaben oder Ziffern\n",
    "print(f\"'PYTHON'.isupper() = {'PYTHON'.isupper()}\")   # True - nur Großbuchstaben\n",
    "print(f\"'python'.islower() = {'python'.islower()}\")   # True - nur Kleinbuchstaben"
   ]
  },
  {
   "cell_type": "markdown",
   "metadata": {},
   "source": [
    "## Leitfragen\n",
    "\n",
    "Beantworte diese Fragen, um dein Verständnis zu testen:\n",
    "\n",
    "1. **Variablen und Literale:**\n",
    "   - Was ist der Unterschied zwischen einem Literal und einer Variable?\n",
    "   - Welche Namenskonventionen gelten für Variablen in Python?\n",
    "   - Warum ist `42` ein Literal, aber `x = 42` eine Variablenzuweisung?\n",
    "\n",
    "2. **Numerische Typen:**\n",
    "   - Wie unterscheiden sich `int` und `float` in Python?\n",
    "   - Warum kann die Addition von `0.1 + 0.2` nicht exakt `0.3` ergeben?\n",
    "   - Wie kann man eine Zahl in binärer oder hexadezimaler Notation darstellen?\n",
    "\n",
    "3. **Strings:**\n",
    "   - Welche unterschiedlichen Möglichkeiten gibt es, Strings in Python zu erstellen?\n",
    "   - Was ist ein \"Raw String\" und wofür wird er verwendet?\n",
    "   - Warum kann man einzelne Zeichen in einem String nicht direkt ändern?\n",
    "   - Wie funktioniert String-Slicing und welche Vorteile bietet es?\n",
    "\n",
    "4. **Operatoren:**\n",
    "   - Welcher Unterschied besteht zwischen `/` und `//` in Python?\n",
    "   - Warum ist die Operatorpräzedenz wichtig und wie kann man sie kontrollieren?\n",
    "   - Erkläre das Konzept der Kurzschlussauswertung bei logischen Operatoren.\n",
    "\n",
    "5. **Typkonvertierung:**\n",
    "   - Wann führt Python eine implizite Typkonvertierung durch?\n",
    "   - Warum kann `int(\"3.14\")` zu einem Fehler führen, aber `int(3.14)` nicht?\n",
    "   - Welche Werte werden in einem booleschen Kontext als `False` betrachtet?"
   ]
  },
  {
   "cell_type": "markdown",
   "metadata": {},
   "source": [
    "## Zusammenfassung\n",
    "\n",
    "In diesem Jupyter Notebook haben wir die folgenden Python-Konzepte behandelt:\n",
    "\n",
    "1. **Grundlegende Datentypen**\n",
    "   - Literale und Variablen\n",
    "   - Numerische Typen (int, float)\n",
    "   - Strings und ihre Grundoperationen\n",
    "\n",
    "2. **Operatoren und Ausdrücke**\n",
    "   - Arithmetische Operatoren und ihre Priorität\n",
    "   - Vergleichs- und logische Operatoren\n",
    "   - Kurzschlussauswertung und Wahrheitswerte\n",
    "\n",
    "3. **Typkonvertierung**\n",
    "   - Implizite und explizite Typkonvertierung\n",
    "   - Typüberprüfung mit `type()`, `isinstance()` und typspezifischen Methoden\n",
    "\n",
    "Mit diesem Wissen bist du gut für den Teil der PCEP-Prüfung gerüstet, der sich mit Datentypen und Operatoren beschäftigt. Stelle sicher, dass du alle Konzepte verstanden hast und übe mit den Übungsaufgaben, um dein Verständnis zu festigen."
   ]
  }
 ],
 "metadata": {
  "kernelspec": {
   "display_name": "Python 3",
   "language": "python",
   "name": "python3"
  },
  "language_info": {
   "codemirror_mode": {
    "name": "ipython",
    "version": 3
   },
   "file_extension": ".py",
   "mimetype": "text/x-python",
   "name": "python",
   "nbconvert_exporter": "python",
   "pygments_lexer": "ipython3",
   "version": "3.13.2"
  }
 },
 "nbformat": 4,
 "nbformat_minor": 4
}
