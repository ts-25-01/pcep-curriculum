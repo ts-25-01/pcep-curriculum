{
  "cells": [
    {
      "cell_type": "markdown",
      "metadata": {
        "id": "o6bO-8s6h9so"
      },
      "source": [
        "# Python Datentypen und Operationen\n",
        "\n",
        "## Strukturierter Leitfaden für PCEP-Prüfungsvorbereitung - Tag 2\n",
        "\n",
        "### Inhaltsverzeichnis\n",
        "1. [Grundlegende Datentypen](#Grundlegende-Datentypen)\n",
        "   - [Literale und Variablen](#Literale-und-Variablen)\n",
        "   - [Numerische Typen (int, float)](#Numerische-Typen-(int,-float))\n",
        "   - [Strings und ihre Grundoperationen](#Strings-und-ihre-Grundoperationen)\n",
        "2. [Operatoren und Ausdrücke](#Operatoren-und-Ausdrücke)\n",
        "   - [Arithmetische Operatoren und ihre Priorität](#Arithmetische-Operatoren-und-ihre-Priorität)\n",
        "   - [Vergleichs- und logische Operatoren](#Vergleichs--und-logische-Operatoren)\n",
        "3. [Typkonvertierung](#Typkonvertierung)\n",
        "   - [Implizite und explizite Typkonvertierung](#Implizite-und-explizite-Typkonvertierung)\n",
        "   - [Typüberprüfung](#Typüberprüfung)\n",
        "4. [Leitfragen](#Leitfragen)\n",
        "5. [Übungsaufgaben](#Übungsaufgaben)"
      ]
    },
    {
      "cell_type": "markdown",
      "metadata": {
        "id": "X5Bq9Vxvh9so"
      },
      "source": [
        "**Empfehlung:**\n",
        "Verwende Klammern, um die Lesbarkeit zu verbessern und Zweifel an der Auswertungsreihenfolge zu vermeiden, auch wenn sie mathematisch nicht unbedingt erforderlich sind."
      ]
    },
    {
      "cell_type": "markdown",
      "metadata": {
        "id": "0iZ33oz7h9so"
      },
      "source": [
        "## Grundlegende Datentypen\n",
        "\n",
        "### Literale und Variablen\n",
        "\n",
        "#### 📝 Was sind Literale?\n",
        "\n",
        "Literale sind feste Werte, die direkt im Code erscheinen. Sie stellen konstante Werte dar, die sich nicht ändern.\n",
        "\n",
        "**Beispiele für Literale in Python:**\n",
        "\n",
        "- Ganzzahlen: `42`, `7`, `0`\n",
        "- Fließkommazahlen: `3.14`, `2.5`, `1.0`\n",
        "- Strings: `\"Hallo\"`, `'Python'`, `\"\"\"Mehrzeiliger Text\"\"\"`\n",
        "- Boolesche Werte: `True`, `False`\n",
        "- Spezialwert: `None`\n",
        "- Kollektionen: `[1, 2, 3]` (Liste), `(1, 2, 3)` (Tupel), `{1, 2, 3}` (Set), `{\"a\": 1, \"b\": 2}` (Dictionary)"
      ]
    },
    {
      "cell_type": "code",
      "source": [
        "# Konstanten definieren\n",
        "PI = 3.14\n",
        "# Achtung: Konstanten haben die Eigenschaft, das sie einmal festgesetzt werden und danach nicht mehr verändert werden können"
      ],
      "metadata": {
        "id": "Z6m8RDUMkqGv"
      },
      "execution_count": null,
      "outputs": []
    },
    {
      "cell_type": "markdown",
      "metadata": {
        "id": "a_Hokv5Wh9so"
      },
      "source": [
        "#### 📝 Was sind Variablen?\n",
        "\n",
        "Variablen sind benannte Speicherplätze, die Werte enthalten können. Der Wert einer Variable kann sich während der Programmausführung ändern."
      ]
    },
    {
      "cell_type": "code",
      "execution_count": null,
      "metadata": {
        "colab": {
          "base_uri": "https://localhost:8080/"
        },
        "id": "1c_pwWV0h9so",
        "outputId": "f426f9cb-b779-40dd-841a-d27642872d91"
      },
      "outputs": [
        {
          "output_type": "stream",
          "name": "stdout",
          "text": [
            "Name Alice Alter 30 Gewicht 65.5 Studentenstatus True\n",
            "Name: Alice, Alter: 30, Gewicht: 65.5, Student: True\n",
            "a=-3, b=0, c=0, x=1, y=2, z=3\n",
            "Name: Alice, Alter: 30\n",
            "Name: Alice, Alter: 30\n"
          ]
        }
      ],
      "source": [
        "# Variablendeklaration und Zuweisung in einem Schritt\n",
        "name = \"Alice\" # =, also das Gleichheitszeichen ist ein Zuweisungsoperator, das bedeutet, wir ordnen dem Speicherplatz (Variable) einen Wert zu\n",
        "alter = 30\n",
        "gewicht = 65.5\n",
        "ist_student = True\n",
        "\n",
        "# Achtung in Python findet Duck-Typing statt, das bedeutet bei Variablendeklaration und gleichzeitiger Zuweisung, erhält die Variable Kenntnis über ihren Datentyp anhand des zugewiesenen Wertes\n",
        "\n",
        "# Mehrfachzuweisung\n",
        "a = b = c = 0  # a, b und c werden auf 0 gesetzt\n",
        "x, y, z = 1, 2, 3  # x wird 1, y wird 2, z wird 3\n",
        "# def = \"test\"\n",
        "\n",
        "i = \"Helen\" # WARUM ist i gleich Helen? -> aussagekräftige Namen für die Variablen\n",
        "x_coordinate_from_plane_octa = 3 # sprechenderer Name\n",
        "# x = 1\n",
        "# y = 2\n",
        "# z = 3\n",
        "# Ausgabe der Variablen\n",
        "# a += 1\n",
        "# a -= 3\n",
        "string_concatenation = \"Name \" + name + \" Alter \" + str(alter) + \" Gewicht \" + str(gewicht) + \" Studentenstatus \" + str(ist_student)\n",
        "print(string_concatenation)\n",
        "print(f\"Name: {name}, Alter: {alter}, Gewicht: {gewicht}, Student: {ist_student}\")\n",
        "print(f\"a={a}, b={b}, c={c}, x={x}, y={y}, z={z}\")\n",
        "# weitere Alternativen zur Verwendung von f-Strings\n",
        "## z.B. mit Platzhaltern\n",
        "format_string = \"Name: {n}, Alter: {a}\".format(n=name, a=alter)\n",
        "print(format_string)\n",
        "## z.B. wie es in C gemacht wird mit %-Formatierung\n",
        "c_string = \"Name: %s, Alter: %d\" % (name, alter)\n",
        "print(c_string)"
      ]
    },
    {
      "cell_type": "markdown",
      "metadata": {
        "id": "XBk0F_yEh9sp"
      },
      "source": [
        "**Namenskonventionen für Variablen:**\n",
        "\n",
        "- Variablennamen können Buchstaben, Ziffern und Unterstriche enthalten\n",
        "- Sie müssen mit einem Buchstaben oder Unterstrich beginnen\n",
        "- Groß- und Kleinschreibung wird unterschieden (case-sensitive)\n",
        "- Python-Schlüsselwörter können nicht als Variablennamen verwendet werden\n",
        "\n",
        "**Empfohlener Stil (PEP 8):** (https://peps.python.org/pep-0008/)\n",
        "\n",
        "- Verwende Kleinbuchstaben mit Unterstrichen für Variablennamen (snake_case)\n",
        "- Klassennamen beginnen mit Großbuchstaben (CamelCase)\n",
        "- Konstanten werden komplett in Großbuchstaben geschrieben\n",
        "- Verwendet bitte Variablennamen, die sprechend sind, in englischer Sprache"
      ]
    },
    {
      "cell_type": "code",
      "execution_count": null,
      "metadata": {
        "colab": {
          "base_uri": "https://localhost:8080/"
        },
        "id": "nfFRmr9ph9sp",
        "outputId": "d138f123-a941-4c4b-f278-cd7545536f95"
      },
      "outputs": [
        {
          "output_type": "stream",
          "name": "stdout",
          "text": [
            "Gute Namen: max_mustermann, 1250.75, True\n",
            "Schlechte Namen: max_mustermann, 1250.75, True\n"
          ]
        }
      ],
      "source": [
        "# Gute Variablennamen (klar und beschreibend)\n",
        "user_name = \"max_mustermann\"\n",
        "sum = 1250.75\n",
        "is_active = True\n",
        "\n",
        "# Schlechte Variablennamen (unklar oder missverständlich)\n",
        "x = \"max_mustermann\"  # Nicht beschreibend\n",
        "GesamtSumme = 1250.75  # Inkonsistente Großschreibung\n",
        "ISTAKTIV = True  # Sieht wie eine Konstante aus, ist aber keine\n",
        "\n",
        "print(f\"Gute Namen: {user_name}, {sum}, {is_active}\")\n",
        "print(f\"Schlechte Namen: {x}, {GesamtSumme}, {ISTAKTIV}\")"
      ]
    },
    {
      "cell_type": "markdown",
      "metadata": {
        "id": "M7mpRj9Kh9sp"
      },
      "source": [
        "### Numerische Typen (int, float)\n",
        "\n",
        "#### 📝 Ganzzahlen (int)\n",
        "\n",
        "Ganzzahlen (Integer) sind Zahlen ohne Dezimalteil. Sie können positive, negative oder Null-Werte haben.\n",
        "\n",
        "**Eigenschaften von int:**\n",
        "\n",
        "- Unbegrenzter Wertebereich (begrenzt nur durch den verfügbaren Speicher)\n",
        "- Unterstützt verschiedene Zahlensysteme:\n",
        "    - Dezimal: `42`\n",
        "    - Binär: `0b101010` (entspricht 42 dezimal)\n",
        "    - Oktal: `0o52` (entspricht 42 dezimal)\n",
        "    - Hexadezimal: `0x2A` (entspricht 42 dezimal)"
      ]
    },
    {
      "cell_type": "code",
      "execution_count": null,
      "metadata": {
        "colab": {
          "base_uri": "https://localhost:8080/"
        },
        "id": "3_xNli8Zh9sp",
        "outputId": "092a56cc-1c1b-4a17-adad-be5caec2f4e4"
      },
      "outputs": [
        {
          "output_type": "stream",
          "name": "stdout",
          "text": [
            "Hexa * Dezimal {1764}\n",
            "a = 42.0, b = -73, c = 0\n",
            "Binär: 42, Oktal: 42, Hexadezimal: 42\n",
            "Eine Million: 1000000\n"
          ]
        }
      ],
      "source": [
        "# Integer-Literale\n",
        "a = 42         # Dezimal\n",
        "b = -73        # Negative Zahl\n",
        "c = 0          # Null\n",
        "d = 0b101010   # Binär (= 42 dezimal)\n",
        "e = 0o52       # Oktal (= 42 dezimal)\n",
        "f = 0x2A       # Hexadezimal (= 42 dezimal)\n",
        "\n",
        "print(f\"Hexa * Dezimal\", {f*a})\n",
        "\n",
        "\n",
        "# Große Zahlen (Unterstriche für bessere Lesbarkeit)\n",
        "million = 1_000_000  # Entspricht 1000000\n",
        "\n",
        "print(f\"a = {float(a)}, b = {b}, c = {c}\")\n",
        "print(f\"Binär: {d}, Oktal: {e}, Hexadezimal: {f}\")\n",
        "print(f\"Eine Million: {million}\")"
      ]
    },
    {
      "cell_type": "code",
      "source": [
        "import sys\n",
        "print(sys.maxsize)\n",
        "print(sys.float_info.max)\n",
        "print(sys.float_info.min)"
      ],
      "metadata": {
        "colab": {
          "base_uri": "https://localhost:8080/"
        },
        "id": "9d9GYXzBt8xx",
        "outputId": "ad0f7c1a-afa5-4e2b-cdbc-7e166314396a"
      },
      "execution_count": null,
      "outputs": [
        {
          "output_type": "stream",
          "name": "stdout",
          "text": [
            "9223372036854775807\n",
            "1.7976931348623157e+308\n",
            "2.2250738585072014e-308\n"
          ]
        }
      ]
    },
    {
      "cell_type": "markdown",
      "metadata": {
        "id": "DUpg7-ZOh9sp"
      },
      "source": [
        "#### 📝 Fließkommazahlen (float)\n",
        "\n",
        "Fließkommazahlen (Floating-Point Numbers) sind Zahlen mit einem Dezimalteil. Sie werden für reelle Zahlen verwendet.\n",
        "\n",
        "**Eigenschaften von float:**\n",
        "\n",
        "- Begrenzte Präzision (normalerweise 15-17 signifikante Stellen)\n",
        "- Können in wissenschaftlicher Notation geschrieben werden\n",
        "- Spezielle Werte: `inf` (Unendlich), `-inf` (negativ Unendlich), `nan` (Not a Number)"
      ]
    },
    {
      "cell_type": "code",
      "execution_count": null,
      "metadata": {
        "colab": {
          "base_uri": "https://localhost:8080/"
        },
        "id": "S6FL3pdrh9sp",
        "outputId": "326209b4-6528-4050-ce2b-74435538677f"
      },
      "outputs": [
        {
          "output_type": "stream",
          "name": "stdout",
          "text": [
            "a = 3.14, b = -2.5, c = 1.0\n",
            "Wissenschaftliche Notation: d = 1000000.0, e = 0.000123\n",
            "Spezielle Werte: unendlich = inf, not_a_number = nan\n",
            "0.1 + 0.2 = 0.30000000000000004\n"
          ]
        }
      ],
      "source": [
        "# Float-Literale\n",
        "a = 3.14       # Dezimalpunkt\n",
        "b = -2.5       # Negative Zahl\n",
        "c = 1.0        # Ganzzahl als Float\n",
        "d = 1e6        # Wissenschaftliche Notation (1 * 10^6 = 1000000.0)\n",
        "e = 1.23e-4    # Kleine Zahl (0.000123)\n",
        "\n",
        "# Spezielle Werte\n",
        "infinity = float('inf')\n",
        "not_a_number = float('nan')\n",
        "\n",
        "print(f\"a = {a}, b = {b}, c = {c}\")\n",
        "print(f\"Wissenschaftliche Notation: d = {d}, e = {e}\")\n",
        "print(f\"Spezielle Werte: unendlich = {infinity}, not_a_number = {not_a_number}\")\n",
        "\n",
        "# Achtung bei Genauigkeit\n",
        "print(f\"0.1 + 0.2 = {0.1 + 0.2}\")  # Ergibt 0.30000000000000004, nicht exakt 0.3!"
      ]
    },
    {
      "cell_type": "markdown",
      "metadata": {
        "id": "y2-vu21Th9sq"
      },
      "source": [
        "**Hinweis zur Genauigkeit:**\n",
        "Fließkommazahlen sind nicht immer exakt, da sie intern im binären Format gespeichert werden. Dies kann zu überraschenden Rundungsfehlern führen."
      ]
    },
    {
      "cell_type": "markdown",
      "metadata": {
        "id": "avz-BSYmh9sq"
      },
      "source": [
        "### Strings und ihre Grundoperationen\n",
        "\n",
        "Strings sind Sequenzen von Zeichen und werden zur Darstellung von Text verwendet.\n",
        "\n",
        "#### 📝 String-Erstellung"
      ]
    },
    {
      "cell_type": "code",
      "execution_count": null,
      "metadata": {
        "colab": {
          "base_uri": "https://localhost:8080/"
        },
        "id": "VnRMjx4Gh9sq",
        "outputId": "5fa3222a-763f-4bb2-f585-fb267d107cf2"
      },
      "outputs": [
        {
          "output_type": "stream",
          "name": "stdout",
          "text": [
            "name1 = Alice, name2 = Bob\n",
            "satz = Alice sagt: 'Hallo Bob!'\n",
            "text = Dies ist ein\n",
            "mehrzeiliger String.\n",
            "Er kann über mehrere Zeilen gehen.\n",
            "pfad = C:\\Users\\name\\Documents\n"
          ]
        }
      ],
      "source": [
        "# String-Literale\n",
        "name1 = 'Alice'             # Einfache Anführungszeichen\n",
        "name2 = \"Bob\"               # Doppelte Anführungszeichen\n",
        "satz = \"Alice sagt: 'Hallo Bob!'\"  # Anführungszeichen in Strings\n",
        "\n",
        "# Mehrzeilige Strings\n",
        "text = \"\"\"Dies ist ein\n",
        "mehrzeiliger String.\n",
        "Er kann über mehrere Zeilen gehen.\"\"\"\n",
        "\n",
        "# Raw Strings (ignorieren Escape-Sequenzen)\n",
        "pfad = r\"C:\\Users\\name\\Documents\"  # Backslashes werden nicht als Escape interpretiert\n",
        "\n",
        "print(f\"name1 = {name1}, name2 = {name2}\")\n",
        "print(f\"satz = {satz}\")\n",
        "print(f\"text = {text}\")\n",
        "print(f\"pfad = {pfad}\")"
      ]
    },
    {
      "cell_type": "markdown",
      "metadata": {
        "id": "Gao557Ebh9sq"
      },
      "source": [
        "#### 📝 Escape-Sequenzen"
      ]
    },
    {
      "cell_type": "code",
      "execution_count": null,
      "metadata": {
        "colab": {
          "base_uri": "https://localhost:8080/"
        },
        "id": "Aa943VqSh9sq",
        "outputId": "fa9d9cdf-1285-4730-8c5d-e3e2f6299d77"
      },
      "outputs": [
        {
          "output_type": "stream",
          "name": "stdout",
          "text": [
            "Zeilenumbruch:\n",
            "Zweite Zeile\n",
            "Tabulator:\tEingerückt\n",
            "Anführungszeichen: \"Zitat\"\n",
            "Backslash: \\\n"
          ]
        }
      ],
      "source": [
        "# Häufige Escape-Sequenzen\n",
        "print(\"Zeilenumbruch:\\nZweite Zeile\")  # \\n für Zeilenumbruch\n",
        "print(\"Tabulator:\\tEingerückt\")        # \\t für Tabulator\n",
        "print(\"Anführungszeichen: \\\"Zitat\\\"\")  # \\\" für Anführungszeichen\n",
        "print(\"Backslash: \\\\\")                 # \\\\ für Backslash"
      ]
    },
    {
      "cell_type": "markdown",
      "metadata": {
        "id": "IhE5bDR8h9sq"
      },
      "source": [
        "#### 📝 String-Indizierung und Slicing"
      ]
    },
    {
      "cell_type": "code",
      "execution_count": null,
      "metadata": {
        "colab": {
          "base_uri": "https://localhost:8080/"
        },
        "id": "cuBquvcOh9sq",
        "outputId": "fc223076-46a2-4f50-f703-bd9cef43fbfe"
      },
      "outputs": [
        {
          "output_type": "stream",
          "name": "stdout",
          "text": [
            "text[0] = P\n",
            "text[2] = t\n",
            "text[-1] = n\n",
            "text[-2] = o\n",
            "text[0:2] = Py\n",
            "text[2:5] = tho\n",
            "text[:3] = Pyt\n",
            "text[3:] = hon\n",
            "text[::2] = Pto\n",
            "text[::-1] = nohtyP\n"
          ]
        }
      ],
      "source": [
        "text = \"Python\"\n",
        "\n",
        "# Indizierung (beginnt bei 0)\n",
        "## Achtung bei Arrays hatte das erste Element auch immer Index 0\n",
        "print(f\"text[0] = {text[0]}\")   # 'P' - erstes Zeichen\n",
        "print(f\"text[2] = {text[2]}\")   # 't' - drittes Zeichen\n",
        "print(f\"text[-1] = {text[-1]}\")  # 'n' - letztes Zeichen\n",
        "print(f\"text[-2] = {text[-2]}\")  # 'o' - vorletztes Zeichen\n",
        "\n",
        "# Slicing (Teilstrings) - Format: [start:ende:schritt]\n",
        "print(f\"text[0:2] = {text[0:2]}\")    # 'Py' - Zeichen von Index 0 bis 1\n",
        "print(f\"text[2:5] = {text[2:5]}\")    # 'tho' - Zeichen von Index 2 bis 4\n",
        "print(f\"text[:3] = {text[:3]}\")     # 'Pyt' - vom Anfang bis Index 2\n",
        "print(f\"text[3:] = {text[3:]}\")     # 'hon' - von Index 3 bis Ende\n",
        "print(f\"text[::2] = {text[::2]}\")    # 'Pto' - jedes zweite Zeichen\n",
        "print(f\"text[::-1] = {text[::-1]}\")   # 'nohtyP' - rückwärts"
      ]
    },
    {
      "cell_type": "code",
      "source": [
        "slicing_text = \"Beispiel\"\n",
        "\n",
        "# Slicing\n",
        "# [start:end:step], d.h. start ist Anfang des Strings, end ist dann die Grenze, bis wohin wir gehen (exklusive dieser Stelle), step ist standardmäßig 1, kann aber angepasst werden\n",
        "## Gib den Text in voller Länge aus\n",
        "print(f\"Text in voller Länge = {slicing_text[:]}\")\n",
        "## Gib den Text von Zeichen 0 bis 2 aus\n",
        "print(f\"Text in voller Länge = {slicing_text[0:3]}\")\n",
        "## Gib den Text von Zeichen 2 bis 5 aus\n",
        "print(f\"Text in voller Länge = {slicing_text[2:6]}\")\n",
        "## Gib den Text von Anfang bis Index 2 aus\n",
        "print(f\"Text in voller Länge = {slicing_text[:3]}\")\n",
        "## Gib den Text rückwärts aus\n",
        "print(f\"Text in voller Länge = {slicing_text[::-1]}\")"
      ],
      "metadata": {
        "colab": {
          "base_uri": "https://localhost:8080/"
        },
        "id": "dYQwrU6qzFcv",
        "outputId": "f954b111-1e28-4e2b-fd48-35b65edfd454"
      },
      "execution_count": null,
      "outputs": [
        {
          "output_type": "stream",
          "name": "stdout",
          "text": [
            "Text in voller Länge = Beispiel\n",
            "Text in voller Länge = Bei\n",
            "Text in voller Länge = ispi\n",
            "Text in voller Länge = Bei\n",
            "Text in voller Länge = leipsieB\n"
          ]
        }
      ]
    },
    {
      "cell_type": "code",
      "source": [
        "## Achtung wenn wir Slicing machen, ist das geslicte Objekt nur eine Kopie des ursprünglichen!\n",
        "## vgl:\n",
        "example_text = \"Beispiel\"\n",
        "sliced_text = example_text[:] # dann ist das eine Kopie vom example_text\n",
        "## Teste das mit\n",
        "print(example_text == sliced_text) ## überprüfe Inhalt, der ist gleich\n",
        "print(example_text is sliced_text) ## False, weil es nicht dasselbe Objekt ist, abhängig von der Python-Implementierung\n",
        "\n",
        "## bei Listen\n",
        "example_list = [1,2,3]\n",
        "sliced_list = example_list[:]\n",
        "\n",
        "print(example_list is sliced_list)"
      ],
      "metadata": {
        "colab": {
          "base_uri": "https://localhost:8080/"
        },
        "id": "NX4yeilb1fEs",
        "outputId": "44ee848f-6b9c-46be-85db-2fa17b4d58f3"
      },
      "execution_count": null,
      "outputs": [
        {
          "output_type": "stream",
          "name": "stdout",
          "text": [
            "True\n",
            "True\n",
            "True\n"
          ]
        }
      ]
    },
    {
      "cell_type": "markdown",
      "metadata": {
        "id": "XGSRM_T8h9sq"
      },
      "source": [
        "#### 📝 String-Operationen\n",
        "\n",
        "**Verkettung (Concatenation):**"
      ]
    },
    {
      "cell_type": "code",
      "execution_count": null,
      "metadata": {
        "colab": {
          "base_uri": "https://localhost:8080/"
        },
        "id": "YleGRihNh9sq",
        "outputId": "8c532a9f-092f-4092-b149-8ba5dffa1303"
      },
      "outputs": [
        {
          "output_type": "stream",
          "name": "stdout",
          "text": [
            "vollname = Max Mustermann\n",
            "wiederholung = HaHaHa\n",
            "Länge von 'Python' = 6\n"
          ]
        }
      ],
      "source": [
        "vorname = \"Max\"\n",
        "nachname = \"Mustermann\"\n",
        "vollname = vorname + \" \" + nachname  # \"Max Mustermann\"\n",
        "\n",
        "# Multiplikation\n",
        "wiederholung = \"Ha\" * 3  # \"HaHaHa\"\n",
        "\n",
        "print(f\"vollname = {vollname}\")\n",
        "print(f\"wiederholung = {wiederholung}\")\n",
        "\n",
        "# Länge eines Strings\n",
        "text = \"Python\"\n",
        "laenge = len(text)  # 6\n",
        "print(f\"Länge von '{text}' = {laenge}\")"
      ]
    },
    {
      "cell_type": "markdown",
      "metadata": {
        "id": "tqcumyMAh9sq"
      },
      "source": [
        "**String-Methoden:**"
      ]
    },
    {
      "cell_type": "code",
      "execution_count": null,
      "metadata": {
        "colab": {
          "base_uri": "https://localhost:8080/"
        },
        "id": "Xdg42nY5h9sq",
        "outputId": "239f321b-66a0-4846-d970-bb465e162a71"
      },
      "outputs": [
        {
          "output_type": "stream",
          "name": "stdout",
          "text": [
            "text.upper() = PYTHON PROGRAMMIERUNG\n",
            "PYTHON PROGRAMMIERUNG\n",
            "text.lower() = python programmierung\n",
            "text.capitalize() = Python programmierung\n",
            "text.title() = Python Programmierung\n",
            "text.find('Pro') = 7\n",
            "text.count('m') = 2\n",
            "text.replace('Python', 'Java') = Java Programmierung\n",
            "'Python'.isalpha() = True\n",
            "'Python3'.isalpha() = False\n",
            "'123'.isdigit() = True\n",
            "'Python'.startswith('Py') = True\n",
            "'Python'.endswith('on') = True\n",
            "text.split(' ') = ['Python', 'Programmierung']\n",
            "'-'.join(wortliste) = Python-Programmierung\n",
            "'  Python  '.strip() = Python\n",
            "'  Python  '.lstrip() = Python  \n",
            "'  Python  '.rstrip() =   Python\n"
          ]
        }
      ],
      "source": [
        "text = \"Python Programmierung\"\n",
        "# text += \"hallo\"\n",
        "# print(text)\n",
        "\n",
        "\n",
        "\n",
        "# Groß-/Kleinschreibung\n",
        "print(f\"text.upper() = {text.upper()}\")      # \"PYTHON PROGRAMMIERUNG\"\n",
        "upper_text = text.upper()\n",
        "print(upper_text)\n",
        "print(f\"text.lower() = {text.lower()}\")      # \"python programmierung\"\n",
        "print(f\"text.capitalize() = {text.capitalize()}\") # \"Python programmierung\"\n",
        "print(f\"text.title() = {text.title()}\")      # \"Python Programmierung\"\n",
        "\n",
        "# Suchen und Ersetzen\n",
        "print(f\"text.find('Pro') = {text.find('Pro')}\")  # 7 - Index des ersten Vorkommens\n",
        "print(f\"text.count('m') = {text.count('m')}\")   # 2 - Anzahl der Vorkommen\n",
        "print(f\"text.replace('Python', 'Java') = {text.replace('Python', 'Java')}\")  # \"Java Programmierung\"\n",
        "\n",
        "# Überprüfungen\n",
        "print(f\"'Python'.isalpha() = {'Python'.isalpha()}\")   # True - nur Buchstaben\n",
        "print(f\"'Python3'.isalpha() = {'Python3'.isalpha()}\")  # False - enthält Ziffern\n",
        "print(f\"'123'.isdigit() = {'123'.isdigit()}\")      # True - nur Ziffern\n",
        "print(f\"'Python'.startswith('Py') = {'Python'.startswith('Py')}\")  # True\n",
        "print(f\"'Python'.endswith('on') = {'Python'.endswith('on')}\")    # True # File intrusion\n",
        "\n",
        "# Teilen und Verbinden\n",
        "wortliste = text.split(\" \")  # [\"Python\", \"Programmierung\"]\n",
        "neuer_text = \"-\".join(wortliste)  # \"Python-Programmierung\"\n",
        "print(f\"text.split(' ') = {wortliste}\")\n",
        "print(f\"'-'.join(wortliste) = {neuer_text}\")\n",
        "\n",
        "# Whitespace entfernen\n",
        "print(f\"'  Python  '.strip() = {'  Python  '.strip()}\")    # \"Python\"\n",
        "print(f\"'  Python  '.lstrip() = {'  Python  '.lstrip()}\")   # \"Python  \"\n",
        "print(f\"'  Python  '.rstrip() = {'  Python  '.rstrip()}\")   # \"  Python\""
      ]
    },
    {
      "cell_type": "markdown",
      "metadata": {
        "id": "fg7hf8Jbh9sq"
      },
      "source": [
        "**String-Formatierung:**\n",
        "\n",
        "1. F-Strings (ab Python 3.6, empfohlen):"
      ]
    },
    {
      "cell_type": "code",
      "execution_count": null,
      "metadata": {
        "id": "VEs2Q64Bh9sq"
      },
      "outputs": [],
      "source": [
        "name = \"Alice\"\n",
        "alter = 30\n",
        "print(f\"Name: {name}, Alter: {alter}\")  # \"Name: Alice, Alter: 30\"\n",
        "print(f\"2 + 2 = {2 + 2}\")               # \"2 + 2 = 4\"\n",
        "print(f\"{name.upper()} ist {alter} Jahre alt.\")  # \"ALICE ist 30 Jahre alt.\"\n",
        "print(f\"Pi ist ungefähr {3.14159:.2f}\")  # \"Pi ist ungefähr 3.14\""
      ]
    },
    {
      "cell_type": "markdown",
      "metadata": {
        "id": "6n640eGzh9sq"
      },
      "source": [
        "2. format()-Methode:"
      ]
    },
    {
      "cell_type": "code",
      "execution_count": null,
      "metadata": {
        "id": "ztJQcWxNh9sq"
      },
      "outputs": [],
      "source": [
        "print(\"Name: {}, Alter: {}\".format(name, alter))  # \"Name: Alice, Alter: 30\"\n",
        "print(\"Name: {0}, Alter: {1}\".format(name, alter))  # \"Name: Alice, Alter: 30\"\n",
        "print(\"Name: {n}, Alter: {a}\".format(n=name, a=alter))  # \"Name: Alice, Alter: 30\""
      ]
    },
    {
      "cell_type": "markdown",
      "metadata": {
        "id": "0b6K1dNah9sq"
      },
      "source": [
        "3. %-Formatierung (ältere Methode):"
      ]
    },
    {
      "cell_type": "code",
      "execution_count": null,
      "metadata": {
        "id": "eRgZiY18h9sq"
      },
      "outputs": [],
      "source": [
        "print(\"Name: %s, Alter: %d\" % (name, alter))  # \"Name: Alice, Alter: 30\""
      ]
    },
    {
      "cell_type": "markdown",
      "metadata": {
        "id": "9LTt-8Flh9sq"
      },
      "source": [
        "**Unveränderlichkeit (Immutability):**\n",
        "\n",
        "Strings sind in Python unveränderlich (immutable), d.h. nach der Erstellung kann ein String nicht geändert werden."
      ]
    },
    {
      "cell_type": "code",
      "execution_count": null,
      "metadata": {
        "id": "sUUoOPKAh9sq"
      },
      "outputs": [],
      "source": [
        "text = \"Python\"\n",
        "# text[0] = \"J\"  # Dies würde einen TypeError verursachen\n",
        "\n",
        "# Stattdessen wird ein neuer String erstellt\n",
        "text = \"J\" + text[1:]  # \"Jython\"\n",
        "print(text)"
      ]
    },
    {
      "cell_type": "markdown",
      "source": [
        "# Übungsaufgaben zu Datentypen\n",
        "## Übungsaufgaben\n",
        "\n",
        "### Aufgabe 1: Variablen und Datentypen\n",
        "\n",
        "Erstelle ein Programm, das folgende Variablen definiert und deren Werte und Typen ausgibt:\n",
        "- Eine Ganzzahl\n",
        "- Eine Fließkommazahl\n",
        "- Einen String\n",
        "- Einen booleschen Wert\n",
        "- Verschiedene arithmetische Operationen mit diesen Variablen"
      ],
      "metadata": {
        "id": "AvKAwPw-6uxY"
      }
    },
    {
      "cell_type": "code",
      "source": [
        "integer = 10\n",
        "print(f\"Die Ganzzahl ist {integer}, der Typ ist: {type(integer)}\")\n",
        "\n",
        "number_with_comma = 3.14\n",
        "print(f\"Die Fließkommazahl ist {number_with_comma}, der Typ ist: {type(number_with_comma)}\")\n",
        "\n",
        "# Arithmetische Operationen\n",
        "print(f\"{integer} durch {number_with_comma} ist gleich {integer / number_with_comma}\")"
      ],
      "metadata": {
        "colab": {
          "base_uri": "https://localhost:8080/"
        },
        "id": "zRg_73fy6_Gx",
        "outputId": "8e150911-a3b6-4dab-8b18-0a04692ee00a"
      },
      "execution_count": null,
      "outputs": [
        {
          "output_type": "stream",
          "name": "stdout",
          "text": [
            "Die Ganzzahl ist 10, der Typ ist: <class 'int'>\n",
            "Die Fließkommazahl ist 3.14, der Typ ist: <class 'float'>\n",
            "10 durch 3.14 ist gleich 3.184713375796178\n"
          ]
        }
      ]
    },
    {
      "cell_type": "markdown",
      "source": [
        "### Aufgabe 2: String-Manipulation\n",
        "\n",
        "Schreibe ein Programm, das einen String manipuliert:\n",
        "1. Erstelle einen String mit deinem vollständigen Namen\n",
        "2. Extrahiere den Vornamen und den Nachnamen mit Slicing\n",
        "3. Zähle, wie viele Buchstaben dein Name insgesamt hat\n",
        "4. Ersetze einen Buchstaben in deinem Namen durch einen anderen\n",
        "5. Gib deinen Namen in Großbuchstaben aus"
      ],
      "metadata": {
        "id": "99maZLTi6zSx"
      }
    },
    {
      "cell_type": "code",
      "source": [
        "full_name = \"Helen Haveloh\"\n",
        "\n",
        "## Extrahiere Vor- und Nachnamen auf String mit Slicing\n",
        "print(f\"Vorname: {full_name[:5]}\")\n",
        "print(f\"Nachname: {full_name[6:]}\")\n",
        "\n",
        "## Zähle die Buchstaben\n",
        "print(f\"Anzahl der Buchstaben: {len(full_name.replace(' ', ''))}\")\n",
        "\n",
        "## Ersetze einen buchstaben\n",
        "print(f\"Buchstaben ersetzt: {full_name.replace('H', 'G')}\")\n",
        "\n",
        "## Großbuchstaben\n",
        "print(f\"Großbuchstaben. {full_name.upper()}\")"
      ],
      "metadata": {
        "colab": {
          "base_uri": "https://localhost:8080/"
        },
        "id": "PACDSSJ76_uI",
        "outputId": "3d77c253-082e-4671-a27f-5a0bcec0da5b"
      },
      "execution_count": null,
      "outputs": [
        {
          "output_type": "stream",
          "name": "stdout",
          "text": [
            "Vorname: Helen\n",
            "Nachname: Haveloh\n",
            "Anzahl der Buchstaben: 12\n",
            "Buchstaben ersetzt: Gelen Gaveloh\n",
            "Großbuchstaben. HELEN HAVELOH\n"
          ]
        }
      ]
    },
    {
      "cell_type": "markdown",
      "metadata": {
        "id": "_mrbXuKBh9sq"
      },
      "source": [
        "## Operatoren und Ausdrücke\n",
        "\n",
        "### Arithmetische Operatoren und ihre Priorität\n",
        "\n",
        "Arithmetische Operatoren werden verwendet, um mathematische Berechnungen durchzuführen.\n",
        "\n",
        "#### 📝 Grundlegende arithmetische Operatoren\n",
        "\n",
        "| Operator | Beschreibung | Beispiel | Ergebnis |\n",
        "| --- | --- | --- | --- |\n",
        "| + | Addition | 5 + 3 | 8 |\n",
        "| - | Subtraktion | 5 - 3 | 2 |\n",
        "| * | Multiplikation | 5 * 3 | 15 |\n",
        "| / | Division | 5 / 3 | 1.6666... |\n",
        "| // | Ganzzahldivision | 5 // 3 | 1 |\n",
        "| % | Modulo (Rest) | 5 % 3 | 2 |\n",
        "| ** | Potenzierung | 5 ** 3 | 125 |"
      ]
    },
    {
      "cell_type": "code",
      "execution_count": null,
      "metadata": {
        "id": "sH-vd-Uuh9sq",
        "colab": {
          "base_uri": "https://localhost:8080/"
        },
        "outputId": "09d14a17-a8ea-4119-e97c-e6dedcd5198a"
      },
      "outputs": [
        {
          "output_type": "stream",
          "name": "stdout",
          "text": [
            "10 + 3 = 13\n",
            "10 - 3 = 7\n",
            "10 * 3 = 30\n",
            "10 / 3 = 3.3333333333333335\n",
            "10 // 3 = 3\n",
            "10 % 3 = 1\n",
            "10 ** 3 = 1000\n",
            "(10 + 3) * 2 = 26\n"
          ]
        }
      ],
      "source": [
        "# Grundlegende Operationen\n",
        "a = 10\n",
        "b = 3\n",
        "\n",
        "summe = a + b       # 13\n",
        "differenz = a - b   # 7\n",
        "produkt = a * b     # 30\n",
        "quotient = a / b    # 3.3333...\n",
        "ganzzahl_div = a // b  # 3\n",
        "rest = a % b        # 1\n",
        "potenz = a ** b     # 1000\n",
        "\n",
        "print(f\"{a} + {b} = {summe}\")\n",
        "print(f\"{a} - {b} = {differenz}\")\n",
        "print(f\"{a} * {b} = {produkt}\")\n",
        "print(f\"{a} / {b} = {quotient}\")\n",
        "print(f\"{a} // {b} = {ganzzahl_div}\")\n",
        "print(f\"{a} % {b} = {rest}\")\n",
        "print(f\"{a} ** {b} = {potenz}\")\n",
        "\n",
        "# Kombinierte Operationen\n",
        "ergebnis = (a + b) * 2  # (13) * 2 = 26\n",
        "print(f\"({a} + {b}) * 2 = {ergebnis}\")"
      ]
    },
    {
      "cell_type": "markdown",
      "metadata": {
        "id": "vMTc39BKh9sq"
      },
      "source": [
        "#### 📝 Zuweisungsoperatoren\n",
        "\n",
        "Zuweisungsoperatoren weisen Variablen Werte zu.\n",
        "\n",
        "| Operator | Beispiel | Äquivalent zu |\n",
        "| --- | --- | --- |\n",
        "| = | x = 5 | x = 5 |\n",
        "| += | x += 3 | x = x + 3 |\n",
        "| -= | x -= 3 | x = x - 3 |\n",
        "| *= | x *= 3 | x = x * 3 |\n",
        "| /= | x /= 3 | x = x / 3 |\n",
        "| //= | x //= 3 | x = x // 3 |\n",
        "| %= | x %= 3 | x = x % 3 |\n",
        "| **= | x **= 3 | x = x ** 3 |"
      ]
    },
    {
      "cell_type": "code",
      "execution_count": null,
      "metadata": {
        "id": "XF0oSndBh9sr",
        "colab": {
          "base_uri": "https://localhost:8080/"
        },
        "outputId": "9e73c008-f7a8-488a-fbd6-178b36e5a474"
      },
      "outputs": [
        {
          "output_type": "stream",
          "name": "stdout",
          "text": [
            "Startwert: x = 10\n",
            "Schleifeniteration:  0\n",
            "Schleifeniteration:  1\n",
            "Schleifeniteration:  2\n",
            "Schleifeniteration:  3\n",
            "Schleifeniteration:  4\n",
            "Nach x += 5: x = 15\n",
            "Nach x -= 3: x = 12\n",
            "Nach x *= 2: x = 24\n",
            "Nach x /= 6: x = 4.0\n",
            "Nach x //= 2: x = 2.0\n",
            "Nach x **= 3: x = 8.0\n"
          ]
        }
      ],
      "source": [
        "x = 10 # Ein = ist eine Zuweisung, d.h. wir weisen der Variablen x einen Wert (10) zu\n",
        "print(f\"Startwert: x = {x}\")\n",
        "\n",
        "# Erinnerung an Schleifen und Laufvariablen i, wir inkrementieren diese um 1, d.h. z.B. i+=1\n",
        "# Wir weisen der Variablen einen Wert hinzu, der auf den Inhalt addiert wird.\n",
        "\n",
        "\n",
        "## Beispiel für for-Schleife, um Laufvariable zu verstehen\n",
        "for i in range(5):\n",
        "  print(\"Schleifeniteration: \", i)\n",
        "  # i += 1\n",
        "\n",
        "\n",
        "\n",
        "x += 5    # x = 15\n",
        "print(f\"Nach x += 5: x = {x}\")\n",
        "\n",
        "x -= 3    # x = 12\n",
        "print(f\"Nach x -= 3: x = {x}\")\n",
        "\n",
        "x *= 2    # x = 24\n",
        "print(f\"Nach x *= 2: x = {x}\")\n",
        "\n",
        "x /= 6    # x = 4.0\n",
        "print(f\"Nach x /= 6: x = {x}\")\n",
        "\n",
        "x //= 2   # x = 2.0 (float wegen vorheriger Division)\n",
        "print(f\"Nach x //= 2: x = {x}\")\n",
        "\n",
        "x **= 3   # x = 8.0\n",
        "print(f\"Nach x **= 3: x = {x}\")"
      ]
    },
    {
      "cell_type": "markdown",
      "source": [
        "for-Schleife in anderen Programmiersprachen:\n",
        "- z.B. Java:\n",
        "```java\n",
        "// i-- <=> i -= 1\n",
        "for(int i=10; i>=5; i--){\n",
        "  System.out.println(\"Schleifeniteration: \" + i);\n",
        "}\n",
        "// Ausgabe wäre hier:\n",
        "// Schleifeniteration: 10\n",
        "// Schleifeniteration: 9\n",
        "// Schleifeniteration: 8\n",
        "// Schleifeniteration: 7\n",
        "// Schleifeniteration: 6\n",
        "// Schleifeniteration: 5\n",
        "```\n",
        "- z.B. Javascript:\n",
        "```javascript\n",
        "// i++ <=> i += 1\n",
        "for(let i=0; i<5; i++){\n",
        "  console.log(\"Schleifeniteration: \", i);\n",
        "}\n",
        "// Ausgabe wäre hier:\n",
        "// Schleifeniteration: 0\n",
        "// Schleifeniteration: 1\n",
        "// Schleifeniteration: 2\n",
        "// Schleifeniteration: 3\n",
        "// Schleifeniteration: 4\n",
        "```"
      ],
      "metadata": {
        "id": "gFxrt3OYgoQM"
      }
    },
    {
      "cell_type": "markdown",
      "metadata": {
        "id": "6wZbMh60h9sr"
      },
      "source": [
        "#### 📝 Operatorpräzedenz (Priorität)\n",
        "\n",
        "Wenn ein Ausdruck mehrere Operatoren enthält, bestimmt die Operatorpräzedenz die Reihenfolge der Auswertung.\n",
        "\n",
        "**Prioritätsreihenfolge (von höchster zu niedrigster):**\n",
        "\n",
        "1. `()` - Klammern\n",
        "2. `**` - Potenzierung\n",
        "3. `+x`, `-x` - Unäres Plus und Minus (Vorzeichen)\n",
        "4. `*`, `/`, `//`, `%` - Multiplikation, Division, Ganzzahldivision, Modulo\n",
        "5. `+`, `-` - Addition, Subtraktion\n",
        "6. `=`, `+=`, `-=`, usw. - Zuweisungen"
      ]
    },
    {
      "cell_type": "code",
      "execution_count": null,
      "metadata": {
        "id": "aWXx6gdNh9sr"
      },
      "outputs": [],
      "source": [
        "# Operator-Präzedenz\n",
        "a = 2 + 3 * 4      # 3 * 4 = 12, dann 2 + 12 = 14\n",
        "b = (2 + 3) * 4    # 2 + 3 = 5, dann 5 * 4 = 20\n",
        "c = 2 ** 3 * 2     # 2 ** 3 = 8, dann 8 * 2 = 16\n",
        "d = 2 * 3 ** 2     # 3 ** 2 = 9, dann 2 * 9 = 18\n",
        "e = 10 / 5 / 2     # 10 / 5 = 2, dann 2 / 2 = 1.0\n",
        "\n",
        "print(f\"2 + 3 * 4 = {a}\")\n",
        "print(f\"(2 + 3) * 4 = {b}\")\n",
        "print(f\"2 ** 3 * 2 = {c}\")\n",
        "print(f\"2 * 3 ** 2 = {d}\")\n",
        "print(f\"10 / 5 / 2 = {e}\")"
      ]
    },
    {
      "cell_type": "markdown",
      "metadata": {
        "id": "tUl2Beqth9sr"
      },
      "source": [
        "### Vergleichs- und logische Operatoren\n",
        "\n",
        "#### 📝 Vergleichsoperatoren\n",
        "\n",
        "Vergleichsoperatoren vergleichen Werte und geben einen booleschen Wert (`True` oder `False`) zurück.\n",
        "\n",
        "| Operator | Beschreibung | Beispiel | Ergebnis |\n",
        "| --- | --- | --- | --- |\n",
        "| == | Gleich | 5 == 5 | True |\n",
        "| != | Ungleich | 5 != 3 | True |\n",
        "| > | Größer als | 5 > 3 | True |\n",
        "| < | Kleiner als | 5 < 3 | False |\n",
        "| >= | Größer oder gleich | 5 >= 5 | True |\n",
        "| <= | Kleiner oder gleich | 5 <= 3 | False |"
      ]
    },
    {
      "cell_type": "code",
      "execution_count": null,
      "metadata": {
        "id": "OIOBTVmNh9sr",
        "colab": {
          "base_uri": "https://localhost:8080/",
          "height": 297
        },
        "outputId": "9deff692-a8ec-4529-d558-29a707defb1b"
      },
      "outputs": [
        {
          "output_type": "stream",
          "name": "stdout",
          "text": [
            "Gib die Zahl für b ein5\n",
            "<class 'str'>\n",
            "a ist ungleich 10\n",
            "10 == 10: True\n",
            "10 != 5: True\n"
          ]
        },
        {
          "output_type": "error",
          "ename": "TypeError",
          "evalue": "'>' not supported between instances of 'int' and 'str'",
          "traceback": [
            "\u001b[0;31m---------------------------------------------------------------------------\u001b[0m",
            "\u001b[0;31mTypeError\u001b[0m                                 Traceback (most recent call last)",
            "\u001b[0;32m<ipython-input-24-1e8efee56c26>\u001b[0m in \u001b[0;36m<cell line: 0>\u001b[0;34m()\u001b[0m\n\u001b[1;32m     13\u001b[0m \u001b[0mprint\u001b[0m\u001b[0;34m(\u001b[0m\u001b[0;34mf\"{a} == {c}: {a == c}\"\u001b[0m\u001b[0;34m)\u001b[0m  \u001b[0;31m# True - a ist gleich c\u001b[0m\u001b[0;34m\u001b[0m\u001b[0;34m\u001b[0m\u001b[0m\n\u001b[1;32m     14\u001b[0m \u001b[0mprint\u001b[0m\u001b[0;34m(\u001b[0m\u001b[0;34mf\"{a} != {b}: {a != b}\"\u001b[0m\u001b[0;34m)\u001b[0m  \u001b[0;31m# True - a ist ungleich b\u001b[0m\u001b[0;34m\u001b[0m\u001b[0;34m\u001b[0m\u001b[0m\n\u001b[0;32m---> 15\u001b[0;31m \u001b[0mprint\u001b[0m\u001b[0;34m(\u001b[0m\u001b[0;34mf\"{a} > {b}: {a > b}\"\u001b[0m\u001b[0;34m)\u001b[0m   \u001b[0;31m# True - a ist größer als b\u001b[0m\u001b[0;34m\u001b[0m\u001b[0;34m\u001b[0m\u001b[0m\n\u001b[0m\u001b[1;32m     16\u001b[0m \u001b[0mprint\u001b[0m\u001b[0;34m(\u001b[0m\u001b[0;34mf\"{a} < {b}: {a < b}\"\u001b[0m\u001b[0;34m)\u001b[0m   \u001b[0;31m# False - a ist nicht kleiner als b\u001b[0m\u001b[0;34m\u001b[0m\u001b[0;34m\u001b[0m\u001b[0m\n\u001b[1;32m     17\u001b[0m \u001b[0mprint\u001b[0m\u001b[0;34m(\u001b[0m\u001b[0;34mf\"{a} >= {c}: {a >= c}\"\u001b[0m\u001b[0;34m)\u001b[0m  \u001b[0;31m# True - a ist größer oder gleich c\u001b[0m\u001b[0;34m\u001b[0m\u001b[0;34m\u001b[0m\u001b[0m\n",
            "\u001b[0;31mTypeError\u001b[0m: '>' not supported between instances of 'int' and 'str'"
          ]
        }
      ],
      "source": [
        "a = 10\n",
        "b = int(input(\"Gib die Zahl für b ein\"))\n",
        "print(type(b))\n",
        "c = 10\n",
        "\n",
        "if a != 10:\n",
        "  print(\"a ist gleich 10\")\n",
        "else:\n",
        "  print(\"a ist ungleich 10\")\n",
        "\n",
        "\n",
        "\n",
        "print(f\"{a} == {c}: {a == c}\")  # True - a ist gleich c\n",
        "print(f\"{a} != {b}: {a != b}\")  # True - a ist ungleich b\n",
        "print(f\"{a} > {b}: {a > b}\")   # True - a ist größer als b\n",
        "print(f\"{a} < {b}: {a < b}\")   # False - a ist nicht kleiner als b\n",
        "print(f\"{a} >= {c}: {a >= c}\")  # True - a ist größer oder gleich c\n",
        "print(f\"{b} <= {c}: {b <= c}\")  # True - b ist kleiner oder gleich c\n",
        "\n",
        "## Achtung: Bei Vergleichen mit logischen Operatoren von zwei Variablen, beachte die Datentypen"
      ]
    },
    {
      "cell_type": "code",
      "source": [
        "## z.B. in Schleifen in Python\n",
        "## while-Schleife mit Schleifenbedingung\n",
        "## for i in range(5):\n",
        "##      print(\"Schleifeniteration: \", i)\n",
        "\n",
        "i = 0\n",
        "while i != 5:\n",
        "  print(\"Schleifeniteration: \", i)\n",
        "  i += 1"
      ],
      "metadata": {
        "colab": {
          "base_uri": "https://localhost:8080/"
        },
        "id": "Nk7CLsVilxw4",
        "outputId": "9f68a3cc-249c-4cab-fc1e-9e46957664fd"
      },
      "execution_count": null,
      "outputs": [
        {
          "output_type": "stream",
          "name": "stdout",
          "text": [
            "Schleifeniteration:  0\n",
            "Schleifeniteration:  1\n",
            "Schleifeniteration:  2\n",
            "Schleifeniteration:  3\n",
            "Schleifeniteration:  4\n"
          ]
        }
      ]
    },
    {
      "cell_type": "markdown",
      "source": [
        "Verkettung von Vergleichen: Python erlaubt die Verkettung von Vergleichsoperatoren, was die Lesbarkeit verbessert."
      ],
      "metadata": {
        "id": "xe0PtFxViVme"
      }
    },
    {
      "cell_type": "code",
      "execution_count": null,
      "metadata": {
        "id": "ueFD2THth9sr"
      },
      "outputs": [],
      "source": [
        "x = 5\n",
        "# Statt:\n",
        "print(f\"x > 0 and x < 10: {x > 0 and x < 10}\")  # True\n",
        "\n",
        "# Kann man schreiben:\n",
        "print(f\"0 < x < 10: {0 < x < 10}\")  # True"
      ]
    },
    {
      "cell_type": "markdown",
      "metadata": {
        "id": "LHY75i7Sh9sr"
      },
      "source": [
        "#### 📝 Logische Operatoren\n",
        "\n",
        "Logische Operatoren kombinieren boolesche Ausdrücke.\n",
        "\n",
        "| Operator | Beschreibung | Beispiel | Ergebnis |\n",
        "| --- | --- | --- | --- |\n",
        "| and | Logisches UND | True and True | True |\n",
        "| or | Logisches ODER | True or False | True |\n",
        "| not | Logisches NICHT | not True | False |\n",
        "\n",
        "**Wahrheitstabellen:**\n",
        "\n",
        "`and`:\n",
        "\n",
        "| A | B | A and B |\n",
        "| --- | --- | --- |\n",
        "| True | True | True |\n",
        "| True | False | False |\n",
        "| False | True | False |\n",
        "| False | False | False |\n",
        "\n",
        "`or`:\n",
        "\n",
        "| A | B | A or B |\n",
        "| --- | --- | --- |\n",
        "| True | True | True |\n",
        "| True | False | True |\n",
        "| False | True | True |\n",
        "| False | False | False |\n",
        "\n",
        "`not`:\n",
        "\n",
        "| A | not A |\n",
        "| --- | --- |\n",
        "| True | False |\n",
        "| False | True |"
      ]
    },
    {
      "cell_type": "code",
      "execution_count": null,
      "metadata": {
        "id": "btqzUlmQh9sr",
        "colab": {
          "base_uri": "https://localhost:8080/"
        },
        "outputId": "bec09e67-2e90-4b6e-aa2c-1de25431d2f9"
      },
      "outputs": [
        {
          "output_type": "stream",
          "name": "stdout",
          "text": [
            "a and b = False\n",
            "a or b = True\n",
            "not a = False\n",
            "not b = False\n",
            "(a or b) and not b = False\n"
          ]
        }
      ],
      "source": [
        "user_is_logged_in_with_pin_code = True\n",
        "user_is_logged_in_with_face_id = False\n",
        "user_is_logged_in_with_password = False\n",
        "\n",
        "if (user_is_logged_in_with_pin_code or user_is_logged_in_with_face_id or user_is_logged_in_with_password):\n",
        "  print(\"User ist eingeloggt\")\n",
        "else:\n",
        "  print(\"User ist nicht eingeloggt\")\n",
        "\n",
        "\n",
        "print(f\"a and b = {user_is_logged_in_with_face_id and user_is_logged_in_with_pin_code}\")   # False - beide müssen True sein\n",
        "print(f\"a or b = {user_is_logged_in_with_pin_code or user_is_logged_in_with_face_id}\")    # True - mindestens eines muss True sein\n",
        "print(f\"not a = {not a}\")     # False - Umkehrung von True\n",
        "print(f\"not b = {not b}\")     # True - Umkehrung von False\n",
        "\n",
        "# Kombination von logischen Operatoren\n",
        "print(f\"(a or b) and not b = {(a or b) and not b}\")  # True"
      ]
    },
    {
      "cell_type": "code",
      "source": [
        "user_is_logged_in = True\n",
        "user_is_verified_in_system = True\n",
        "\n",
        "print(f\"a and b = {user_is_logged_in_with_face_id and user_is_logged_in_with_pin_code}\")   # True - beide müssen True sein\n",
        "print(f\"a or b = {user_is_logged_in_with_pin_code or user_is_logged_in_with_face_id}\")    # True - mindestens eines muss True sein\n",
        "print(f\"not a = {not a}\")     # False - Umkehrung von True\n",
        "print(f\"not b = {not b}\")     # True - Umkehrung von False\n",
        "\n",
        "# Kombination von logischen Operatoren\n",
        "print(f\"(a or b) and not b = {(a or b) and not b}\")  # True"
      ],
      "metadata": {
        "colab": {
          "base_uri": "https://localhost:8080/"
        },
        "id": "T_DLCcAppOwZ",
        "outputId": "34531c96-feae-47f1-be8b-090a10ac26f0"
      },
      "execution_count": null,
      "outputs": [
        {
          "output_type": "stream",
          "name": "stdout",
          "text": [
            "a and b = False\n",
            "a or b = True\n",
            "not a = False\n",
            "not b = False\n",
            "(a or b) and not b = False\n"
          ]
        }
      ]
    },
    {
      "cell_type": "markdown",
      "metadata": {
        "id": "F2afXoloh9sr"
      },
      "source": [
        "#### 📝 Kurzschlussauswertung (Short-circuit Evaluation)\n",
        "\n",
        "Python verwendet Kurzschlussauswertung für `and` und `or`, d.h. der zweite Operand wird nur ausgewertet, wenn der erste nicht ausreicht, um das Ergebnis zu bestimmen."
      ]
    },
    {
      "cell_type": "code",
      "execution_count": null,
      "metadata": {
        "id": "WuOTQViJh9sr",
        "colab": {
          "base_uri": "https://localhost:8080/"
        },
        "outputId": "56fec947-3ed5-4188-e1af-364d6f443dc4"
      },
      "outputs": [
        {
          "output_type": "stream",
          "name": "stdout",
          "text": [
            "Dieser Text wird nicht ausgegeben\n",
            "x = None\n",
            "Dieser Text wird nicht ausgegeben\n",
            "y = None\n"
          ]
        }
      ],
      "source": [
        "# Bei 'and' wird der zweite Ausdruck nur ausgewertet, wenn der erste True ist\n",
        "x = False and print(\"Dieser Text wird nicht ausgegeben\")  # Nichts wird ausgegeben\n",
        "print(f\"x = {x}\")\n",
        "\n",
        "# Bei 'or' wird der zweite Ausdruck nur ausgewertet, wenn der erste False ist\n",
        "y = True or print(\"Dieser Text wird nicht ausgegeben\")  # Nichts wird ausgegeben\n",
        "print(f\"y = {y}\")"
      ]
    },
    {
      "cell_type": "markdown",
      "metadata": {
        "id": "N_9Vw7kah9sr"
      },
      "source": [
        "#### 📝 Wahrheitswerte von Nicht-Booleschen Typen\n",
        "\n",
        "In Python können auch nicht-boolesche Typen in einem booleschen Kontext verwendet werden.\n",
        "\n",
        "**Als `False` gelten:**\n",
        "\n",
        "- `False` (boolescher Wert)\n",
        "- `None` (Null-Wert)\n",
        "- Numerische Null-Werte: `0`, `0.0`, `0j`\n",
        "- Leere Sequenzen: `''`, `[]`, `()`\n",
        "- Leere Mapping-Typen: `{}`\n",
        "- Leere Sets: `set()`\n",
        "\n",
        "**Alles andere gilt als `True`.**"
      ]
    },
    {
      "cell_type": "code",
      "execution_count": null,
      "metadata": {
        "id": "g806pz9Ah9sr",
        "colab": {
          "base_uri": "https://localhost:8080/"
        },
        "outputId": "ae2944d9-f49b-4972-cb3b-37980fc41b42"
      },
      "outputs": [
        {
          "output_type": "stream",
          "name": "stdout",
          "text": [
            "bool(0) = False\n",
            "bool(42) = True\n",
            "bool('') = False\n",
            "bool('Python') = True\n",
            "bool([]) = False\n",
            "bool([1, 2, 3]) = True\n",
            "None\n",
            "b ist leer\n"
          ]
        }
      ],
      "source": [
        "# Nicht-boolesche Werte in booleschen Kontexten\n",
        "print(f\"bool(0) = {bool(0)}\")          # False\n",
        "print(f\"bool(42) = {bool(42)}\")         # True\n",
        "print(f\"bool('') = {bool('')}\")         # False\n",
        "print(f\"bool('Python') = {bool('Python')}\")   # True\n",
        "print(f\"bool([]) = {bool([])}\")         # False\n",
        "print(f\"bool([1, 2, 3]) = {bool([1, 2, 3])}\")  # True\n",
        "\n",
        "# In Bedingungen\n",
        "a = None\n",
        "if a:\n",
        "    print(\"a ist wahr\")  # Wird ausgegeben, da a nicht 0 ist\n",
        "else:\n",
        "    print(\"a ist false\")\n",
        "\n",
        "b = \"\"\n",
        "if not b:\n",
        "    print(\"b ist leer\")  # Wird ausgegeben, da b ein leerer String ist"
      ]
    },
    {
      "cell_type": "markdown",
      "metadata": {
        "id": "h-fBBZ5mh9sr"
      },
      "source": [
        "## Typkonvertierung\n",
        "\n",
        "### Implizite und explizite Typkonvertierung\n",
        "\n",
        "#### 📝 Implizite Typkonvertierung (Typkoerzion)\n",
        "\n",
        "Python führt in bestimmten Situationen automatisch eine Typkonvertierung durch, ohne dass der Programmierer eingreifen muss."
      ]
    },
    {
      "cell_type": "code",
      "execution_count": null,
      "metadata": {
        "id": "orr8xKrRh9ss",
        "colab": {
          "base_uri": "https://localhost:8080/"
        },
        "outputId": "42bddf1b-a5b3-4273-e0bf-a94fd01eb7a9"
      },
      "outputs": [
        {
          "output_type": "stream",
          "name": "stdout",
          "text": [
            "5 + 3.14 = 8.14, Typ: <class 'float'>\n",
            "5 / 2 = 2.5, Typ: <class 'float'>\n",
            "True + 1 = 2, Typ: <class 'int'>\n",
            "False + 5 = 5, Typ: <class 'int'>\n",
            "'a' * 3 = HaHaHa, Typ: <class 'str'>\n",
            "HaHaHa\n"
          ]
        }
      ],
      "source": [
        "# Integer + Float ergibt Float\n",
        "a = 5 + 3.14  # a ist 8.14 (Float)\n",
        "print(f\"5 + 3.14 = {a}, Typ: {type(a)}\")\n",
        "\n",
        "# Integer / Integer ergibt Float\n",
        "b = 5 / 2     # b ist 2.5 (Float)\n",
        "print(f\"5 / 2 = {b}, Typ: {type(b)}\")\n",
        "\n",
        "# Boolean in arithmetischen Operationen\n",
        "c = True + 1  # c ist 2 (Integer) - True wird als 1 behandelt\n",
        "d = False + 5 # d ist 5 (Integer) - False wird als 0 behandelt\n",
        "print(f\"True + 1 = {c}, Typ: {type(c)}\")\n",
        "print(f\"False + 5 = {d}, Typ: {type(d)}\")\n",
        "\n",
        "# Multiplikation von String mit Integer\n",
        "e = \"Ha\" * 3   # e ist \"aaa\" (String)\n",
        "print(f\"'a' * 3 = {e}, Typ: {type(e)}\")\n",
        "\n",
        "# Strings konnten wir konkatenieren\n",
        "concatenated_string = \"Ha\" + \"Ha\" + \"Ha\"\n",
        "print(concatenated_string)"
      ]
    },
    {
      "cell_type": "markdown",
      "metadata": {
        "id": "8jaa__Q8h9ss"
      },
      "source": [
        "**Hinweis:**\n",
        "Python ist strenger als einige andere Sprachen und konvertiert nicht automatisch zwischen unvereinbaren Typen:"
      ]
    },
    {
      "cell_type": "code",
      "execution_count": null,
      "metadata": {
        "id": "zPYcL_uZh9ss",
        "colab": {
          "base_uri": "https://localhost:8080/",
          "height": 193
        },
        "outputId": "deb20452-19ff-4720-e0f9-87438947ed1e"
      },
      "outputs": [
        {
          "output_type": "stream",
          "name": "stdout",
          "text": [
            "<class 'str'>\n"
          ]
        },
        {
          "output_type": "error",
          "ename": "ValueError",
          "evalue": "invalid literal for int() with base 10: 'Hallo'",
          "traceback": [
            "\u001b[0;31m---------------------------------------------------------------------------\u001b[0m",
            "\u001b[0;31mValueError\u001b[0m                                Traceback (most recent call last)",
            "\u001b[0;32m<ipython-input-49-2178d88f0aa3>\u001b[0m in \u001b[0;36m<cell line: 0>\u001b[0;34m()\u001b[0m\n\u001b[1;32m      6\u001b[0m \u001b[0mstring_test\u001b[0m \u001b[0;34m=\u001b[0m \u001b[0;34m\"22\"\u001b[0m\u001b[0;34m\u001b[0m\u001b[0;34m\u001b[0m\u001b[0m\n\u001b[1;32m      7\u001b[0m \u001b[0mprint\u001b[0m\u001b[0;34m(\u001b[0m\u001b[0mtype\u001b[0m\u001b[0;34m(\u001b[0m\u001b[0mstring_test\u001b[0m\u001b[0;34m)\u001b[0m\u001b[0;34m)\u001b[0m\u001b[0;34m\u001b[0m\u001b[0;34m\u001b[0m\u001b[0m\n\u001b[0;32m----> 8\u001b[0;31m \u001b[0mprint\u001b[0m\u001b[0;34m(\u001b[0m\u001b[0;34mf\"int('42') + 7 = {int('Hallo')+7}\"\u001b[0m\u001b[0;34m)\u001b[0m\u001b[0;34m\u001b[0m\u001b[0;34m\u001b[0m\u001b[0m\n\u001b[0m",
            "\u001b[0;31mValueError\u001b[0m: invalid literal for int() with base 10: 'Hallo'"
          ]
        }
      ],
      "source": [
        "# Dies würde einen TypeError verursachen:\n",
        "# f = \"42\" + 7  # Kann String nicht mit Integer addieren\n",
        "\n",
        "# Stattdessen muss explizite Typkonvertierung erfolgen:\n",
        "f = int(\"42\") + 7  # 49\n",
        "#string_test = \"22\"\n",
        "#print(type(string_test))\n",
        "print(f\"int('42') + 7 = {f}\")\n"
      ]
    },
    {
      "cell_type": "code",
      "source": [
        "# hexadezimal kann ich auch easy mit dezimal zb verrechnen, da beides vom Typ Integer ist\n",
        "# Integer-Literale\n",
        "a = 42         # Dezimal\n",
        "f = 0x2A       # Hexadezimal (= 42 dezimal)\n",
        "\n",
        "print(f\"Hexa * Dezimal\", {f*a})"
      ],
      "metadata": {
        "colab": {
          "base_uri": "https://localhost:8080/"
        },
        "id": "s9rASioWzCW2",
        "outputId": "fd62c3e4-ea04-4d00-b4b6-0cbbff44b2f7"
      },
      "execution_count": null,
      "outputs": [
        {
          "output_type": "stream",
          "name": "stdout",
          "text": [
            "Hexa * Dezimal {1764}\n"
          ]
        }
      ]
    },
    {
      "cell_type": "markdown",
      "source": [],
      "metadata": {
        "id": "80n2P802zinS"
      }
    },
    {
      "cell_type": "markdown",
      "metadata": {
        "id": "y4ociJ8rh9ss"
      },
      "source": [
        "#### 📝 Explizite Typkonvertierung (Typumwandlung) Typecasting\n",
        "\n",
        "Der Programmierer kann explizit Typen umwandeln, indem er Typkonvertierungsfunktionen verwendet.\n",
        "\n",
        "**Grundlegende Typkonvertierungsfunktionen:**\n",
        "\n",
        "| Funktion | Beschreibung | Beispiel | Ergebnis |\n",
        "| --- | --- | --- | --- |\n",
        "| int() | Konvertiert zu Integer | int(\"42\") | 42 |\n",
        "| float() | Konvertiert zu Float | float(\"3.14\") | 3.14 |\n",
        "| str() | Konvertiert zu String | str(42) | \"42\" |\n",
        "| bool() | Konvertiert zu Boolean | bool(0) | False |\n",
        "| list() | Konvertiert zu Liste | list(\"abc\") | ['a', 'b', 'c'] |\n",
        "| tuple() | Konvertiert zu Tupel | tuple([1, 2, 3]) | (1, 2, 3) |\n",
        "| set() | Konvertiert zu Set | set([1, 2, 2, 3]) | {1, 2, 3} |"
      ]
    },
    {
      "cell_type": "code",
      "execution_count": null,
      "metadata": {
        "id": "SUFJrfpRh9ss",
        "colab": {
          "base_uri": "https://localhost:8080/"
        },
        "outputId": "6e0f6886-00cb-4a38-9630-fed0024f174a"
      },
      "outputs": [
        {
          "output_type": "stream",
          "name": "stdout",
          "text": [
            "int('42') = 42, Typ: <class 'int'>\n",
            "float('3.14') = 3.14, Typ: <class 'float'>\n",
            "str(42) = 42, Typ: <class 'str'>\n",
            "str(3.14) = 3.14, Typ: <class 'str'>\n",
            "int(3.99) = 3 - Dezimalteil wird abgeschnitten, nicht gerundet\n",
            "bool(42) = True, bool(0) = False\n",
            "int(True) = 1, int(False) = 0\n",
            "list('Python') = ['P', 'y', 't', 'h', 'o', 'n']\n",
            "tuple([1, 2, 3]) = (1, 2, 3)\n",
            "set([1, 2, 2, 3, 3]) = {1, 2, 3} - Duplikate werden entfernt\n"
          ]
        }
      ],
      "source": [
        "# String zu Zahl\n",
        "a = int(\"42\")     # 42 (Integer)\n",
        "b = float(\"3.14\") # 3.14 (Float)\n",
        "print(f\"int('42') = {a}, Typ: {type(a)}\")\n",
        "print(f\"float('3.14') = {b}, Typ: {type(b)}\")\n",
        "\n",
        "# Zahl zu String\n",
        "c = str(42)       # \"42\" (String)\n",
        "d = str(3.14)     # \"3.14\" (String)\n",
        "print(f\"str(42) = {c}, Typ: {type(c)}\")\n",
        "print(f\"str(3.14) = {d}, Typ: {type(d)}\")\n",
        "\n",
        "# Rundungsprobleme beachten\n",
        "e = int(3.99)     # 3 (Integer) - schneidet Dezimalteil ab, rundet nicht\n",
        "print(f\"int(3.99) = {e} - Dezimalteil wird abgeschnitten, nicht gerundet\")\n",
        "\n",
        "# Von und zu Boolean\n",
        "f = bool(42)      # True\n",
        "g = bool(0)       # False\n",
        "h = int(True)     # 1\n",
        "i = int(False)    # 0\n",
        "print(f\"bool(42) = {f}, bool(0) = {g}\")\n",
        "print(f\"int(True) = {h}, int(False) = {i}\")\n",
        "\n",
        "# Andere Sequenztypen\n",
        "j = list(\"Python\")        # ['P', 'y', 't', 'h', 'o', 'n']\n",
        "k = tuple([1, 2, 3])      # (1, 2, 3)\n",
        "l = set([1, 2, 2, 3, 3])  # {1, 2, 3} - Duplikate werden entfernt\n",
        "print(f\"list('Python') = {j}\")\n",
        "print(f\"tuple([1, 2, 3]) = {k}\")\n",
        "print(f\"set([1, 2, 2, 3, 3]) = {l} - Duplikate werden entfernt\")"
      ]
    },
    {
      "cell_type": "markdown",
      "metadata": {
        "id": "X0hvXc3Dh9ss"
      },
      "source": [
        "**Fehlerbehandlung bei Typkonvertierung:**\n",
        "Nicht alle Konvertierungen sind möglich. Bei ungültigen Konvertierungen wird ein `ValueError` ausgelöst."
      ]
    },
    {
      "cell_type": "code",
      "execution_count": null,
      "metadata": {
        "id": "L1Lntahth9ss",
        "colab": {
          "base_uri": "https://localhost:8080/",
          "height": 263
        },
        "outputId": "16e24b88-105f-4560-80b6-029e0678e014"
      },
      "outputs": [
        {
          "output_type": "stream",
          "name": "stdout",
          "text": [
            "int('42') = 42\n",
            "float('3.14') = 3.14\n",
            "3\n"
          ]
        },
        {
          "output_type": "error",
          "ename": "ValueError",
          "evalue": "invalid literal for int() with base 10: 'abc'",
          "traceback": [
            "\u001b[0;31m---------------------------------------------------------------------------\u001b[0m",
            "\u001b[0;31mValueError\u001b[0m                                Traceback (most recent call last)",
            "\u001b[0;32m<ipython-input-56-53f83a8f52c7>\u001b[0m in \u001b[0;36m<cell line: 0>\u001b[0;34m()\u001b[0m\n\u001b[1;32m      7\u001b[0m \u001b[0mprint\u001b[0m\u001b[0;34m(\u001b[0m\u001b[0mint\u001b[0m\u001b[0;34m(\u001b[0m\u001b[0mfloat\u001b[0m\u001b[0;34m(\u001b[0m\u001b[0;34m\"3.14\"\u001b[0m\u001b[0;34m)\u001b[0m\u001b[0;34m)\u001b[0m\u001b[0;34m)\u001b[0m   \u001b[0;31m# Wir können aber, den string erst in einen float und dann das Ganze in einen int konvertieren\u001b[0m\u001b[0;34m\u001b[0m\u001b[0;34m\u001b[0m\u001b[0m\n\u001b[1;32m      8\u001b[0m \u001b[0;31m# print(int(\"3.14\")) # Kann Float-String nicht direkt zu int konvertieren\u001b[0m\u001b[0;34m\u001b[0m\u001b[0;34m\u001b[0m\u001b[0m\n\u001b[0;32m----> 9\u001b[0;31m \u001b[0mprint\u001b[0m\u001b[0;34m(\u001b[0m\u001b[0mint\u001b[0m\u001b[0;34m(\u001b[0m\u001b[0;34m\"abc\"\u001b[0m\u001b[0;34m)\u001b[0m\u001b[0;34m)\u001b[0m    \u001b[0;31m# Kann nicht-numerischen String nicht zu int konvertieren\u001b[0m\u001b[0;34m\u001b[0m\u001b[0;34m\u001b[0m\u001b[0m\n\u001b[0m\u001b[1;32m     10\u001b[0m \u001b[0;34m\u001b[0m\u001b[0m\n\u001b[1;32m     11\u001b[0m \u001b[0;31m# Zweistufige Konvertierung\u001b[0m\u001b[0;34m\u001b[0m\u001b[0;34m\u001b[0m\u001b[0m\n",
            "\u001b[0;31mValueError\u001b[0m: invalid literal for int() with base 10: 'abc'"
          ]
        }
      ],
      "source": [
        "# Gültige Konvertierungen\n",
        "print(f\"int('42') = {int('42')}\")       # 42\n",
        "print(f\"float('3.14') = {float('3.14')}\")   # 3.14\n",
        "\n",
        "# Ungültige Konvertierungen würden ValueError verursachen\n",
        "# 3*(3*3)\n",
        "print(int(float(\"3.14\")))   # Wir können aber, den string erst in einen float und dann das Ganze in einen int konvertieren\n",
        "# print(int(\"3.14\")) # Kann Float-String nicht direkt zu int konvertieren\n",
        "# print(int(\"abc\"))    # Kann nicht-numerischen String nicht zu int konvertieren\n",
        "\n",
        "# Zweistufige Konvertierung\n",
        "print(f\"int(float('3.14')) = {int(float('3.14'))}\")  # 3 - erst zu Float, dann zu Int"
      ]
    },
    {
      "cell_type": "markdown",
      "metadata": {
        "id": "Gqv0GJK8h9ss"
      },
      "source": [
        "### Typüberprüfung\n",
        "\n",
        "Python bietet verschiedene Möglichkeiten, den Typ eines Objekts zu überprüfen."
      ]
    },
    {
      "cell_type": "markdown",
      "metadata": {
        "id": "tVXGdyQ7h9ss"
      },
      "source": [
        "#### 📝 type()-Funktion\n",
        "\n",
        "Die `type()`-Funktion gibt den Typ eines Objekts zurück."
      ]
    },
    {
      "cell_type": "code",
      "execution_count": null,
      "metadata": {
        "id": "CgNMjA-Fh9ss"
      },
      "outputs": [],
      "source": [
        "a = 42\n",
        "b = 3.14\n",
        "c = \"Python\"\n",
        "d = [1, 2, 3]\n",
        "\n",
        "print(f\"type({a}) = {type(a)}\")  # <class 'int'>\n",
        "print(f\"type({b}) = {type(b)}\")  # <class 'float'>\n",
        "print(f\"type('{c}') = {type(c)}\")  # <class 'str'>\n",
        "print(f\"type({d}) = {type(d)}\")  # <class 'list'>"
      ]
    },
    {
      "cell_type": "markdown",
      "metadata": {
        "id": "5Jc4xqElh9ss"
      },
      "source": [
        "#### 📝 isinstance()-Funktion\n",
        "\n",
        "Die `isinstance()`-Funktion prüft, ob ein Objekt eine Instanz einer bestimmten Klasse oder eines Typs ist."
      ]
    },
    {
      "cell_type": "code",
      "execution_count": null,
      "metadata": {
        "id": "lCfrJPldh9ss"
      },
      "outputs": [],
      "source": [
        "a = 42\n",
        "b = 3.14\n",
        "c = \"Python\"\n",
        "\n",
        "print(f\"isinstance({a}, int) = {isinstance(a, int)}\")    # True\n",
        "print(f\"isinstance({b}, float) = {isinstance(b, float)}\")  # True\n",
        "print(f\"isinstance('{c}', str) = {isinstance(c, str)}\")    # True\n",
        "\n",
        "# Mehrere Typen prüfen\n",
        "print(f\"isinstance({a}, (int, float)) = {isinstance(a, (int, float))}\")  # True - a ist int oder float\n",
        "print(f\"isinstance('{c}', (int, float)) = {isinstance(c, (int, float))}\")  # False - c ist weder int noch float"
      ]
    },
    {
      "cell_type": "markdown",
      "metadata": {
        "id": "vcARrPyeh9ss"
      },
      "source": [
        "#### 📝 Typspezifische Methoden\n",
        "\n",
        "Manche Typen bieten spezifische Methoden zur Überprüfung von Eigenschaften."
      ]
    },
    {
      "cell_type": "code",
      "execution_count": null,
      "metadata": {
        "id": "LYUk88w-h9ss"
      },
      "outputs": [],
      "source": [
        "# String-Methoden\n",
        "print(f\"'123'.isdigit() = {'123'.isdigit()}\")      # True - nur Ziffern\n",
        "print(f\"'abc'.isalpha() = {'abc'.isalpha()}\")      # True - nur Buchstaben\n",
        "print(f\"'abc123'.isalnum() = {'abc123'.isalnum()}\")   # True - Buchstaben oder Ziffern\n",
        "print(f\"'PYTHON'.isupper() = {'PYTHON'.isupper()}\")   # True - nur Großbuchstaben\n",
        "print(f\"'python'.islower() = {'python'.islower()}\")   # True - nur Kleinbuchstaben"
      ]
    },
    {
      "cell_type": "markdown",
      "metadata": {
        "id": "clrsyWCRh9ss"
      },
      "source": [
        "## Leitfragen\n",
        "\n",
        "Beantworte diese Fragen, um dein Verständnis zu testen:\n",
        "\n",
        "1. **Variablen und Literale:**\n",
        "   - Was ist der Unterschied zwischen einem Literal und einer Variable?\n",
        "   - Welche Namenskonventionen gelten für Variablen in Python?\n",
        "   - Warum ist `42` ein Literal, aber `x = 42` eine Variablenzuweisung?\n",
        "\n",
        "2. **Numerische Typen:**\n",
        "   - Wie unterscheiden sich `int` und `float` in Python?\n",
        "   - Warum kann die Addition von `0.1 + 0.2` nicht exakt `0.3` ergeben?\n",
        "   - Wie kann man eine Zahl in binärer oder hexadezimaler Notation darstellen?\n",
        "\n",
        "3. **Strings:**\n",
        "   - Welche unterschiedlichen Möglichkeiten gibt es, Strings in Python zu erstellen?\n",
        "   - Was ist ein \"Raw String\" und wofür wird er verwendet?\n",
        "   - Warum kann man einzelne Zeichen in einem String nicht direkt ändern?\n",
        "   - Wie funktioniert String-Slicing und welche Vorteile bietet es?\n",
        "\n",
        "4. **Operatoren:**\n",
        "   - Welcher Unterschied besteht zwischen `/` und `//` in Python?\n",
        "   - Warum ist die Operatorpräzedenz wichtig und wie kann man sie kontrollieren?\n",
        "   - Erkläre das Konzept der Kurzschlussauswertung bei logischen Operatoren.\n",
        "\n",
        "5. **Typkonvertierung:**\n",
        "   - Wann führt Python eine implizite Typkonvertierung durch?\n",
        "   - Warum kann `int(\"3.14\")` zu einem Fehler führen, aber `int(3.14)` nicht?\n",
        "   - Welche Werte werden in einem booleschen Kontext als `False` betrachtet?"
      ]
    },
    {
      "cell_type": "markdown",
      "metadata": {
        "id": "p8LvvDpXh9ss"
      },
      "source": [
        "## Zusammenfassung\n",
        "\n",
        "In diesem Jupyter Notebook haben wir die folgenden Python-Konzepte behandelt:\n",
        "\n",
        "1. **Grundlegende Datentypen**\n",
        "   - Literale und Variablen\n",
        "   - Numerische Typen (int, float)\n",
        "   - Strings und ihre Grundoperationen\n",
        "\n",
        "2. **Operatoren und Ausdrücke**\n",
        "   - Arithmetische Operatoren und ihre Priorität\n",
        "   - Vergleichs- und logische Operatoren\n",
        "   - Kurzschlussauswertung und Wahrheitswerte\n",
        "\n",
        "3. **Typkonvertierung**\n",
        "   - Implizite und explizite Typkonvertierung\n",
        "   - Typüberprüfung mit `type()`, `isinstance()` und typspezifischen Methoden\n",
        "\n",
        "Mit diesem Wissen bist du gut für den Teil der PCEP-Prüfung gerüstet, der sich mit Datentypen und Operatoren beschäftigt. Stelle sicher, dass du alle Konzepte verstanden hast und übe mit den Übungsaufgaben, um dein Verständnis zu festigen."
      ]
    }
  ],
  "metadata": {
    "kernelspec": {
      "display_name": "Python 3",
      "language": "python",
      "name": "python3"
    },
    "language_info": {
      "codemirror_mode": {
        "name": "ipython",
        "version": 3
      },
      "file_extension": ".py",
      "mimetype": "text/x-python",
      "name": "python",
      "nbconvert_exporter": "python",
      "pygments_lexer": "ipython3",
      "version": "3.13.2"
    },
    "colab": {
      "provenance": []
    }
  },
  "nbformat": 4,
  "nbformat_minor": 0
}