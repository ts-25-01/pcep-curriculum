{
 "cells": [
  {
   "cell_type": "markdown",
   "metadata": {},
   "source": [
    "## Übungsaufgaben\n",
    "\n",
    "### Aufgabe 1: Variablen und Datentypen\n",
    "\n",
    "Erstelle ein Programm, das folgende Variablen definiert und deren Werte und Typen ausgibt:\n",
    "- Eine Ganzzahl\n",
    "- Eine Fließkommazahl\n",
    "- Einen String\n",
    "- Einen booleschen Wert\n",
    "- Verschiedene arithmetische Operationen mit diesen Variablen"
   ]
  },
  {
   "cell_type": "markdown",
   "metadata": {},
   "source": [
    "### Aufgabe 2: String-Manipulation\n",
    "\n",
    "Schreibe ein Programm, das einen String manipuliert:\n",
    "1. Erstelle einen String mit deinem vollständigen Namen\n",
    "2. Extrahiere den Vornamen und den Nachnamen mit Slicing\n",
    "3. Zähle, wie viele Buchstaben dein Name insgesamt hat\n",
    "4. Ersetze einen Buchstaben in deinem Namen durch einen anderen\n",
    "5. Gib deinen Namen in Großbuchstaben aus"
   ]
  },
  {
   "cell_type": "markdown",
   "metadata": {},
   "source": [
    "### Aufgabe 3: Typkonvertierung\n",
    "\n",
    "Schreibe ein Programm, das:\n",
    "1. Zwei Zahlen vom Benutzer als Strings einliest\n",
    "2. Diese in numerische Typen konvertiert\n",
    "3. Verschiedene arithmetische Operationen durchführt\n",
    "4. Die Ergebnisse als formatierte Strings ausgibt"
   ]
  },
  {
   "cell_type": "markdown",
   "metadata": {},
   "source": [
    "### Aufgabe 4: Operatorpräzedenz\n",
    "\n",
    "Berechne den Wert der folgenden Ausdrücke und erkläre die Auswertungsreihenfolge:\n",
    "1. `2 + 3 * 4`\n",
    "2. `(2 + 3) * 4`\n",
    "3. `10 - 2 ** 3 + 5`\n",
    "4. `20 / 4 / 2`\n",
    "5. `8 + 4 // 3 - 2 * 2`"
   ]
  },
  {
   "cell_type": "markdown",
   "metadata": {},
   "source": [
    "### Aufgabe 5: Logische Operatoren\n",
    "\n",
    "Bestimme den Wert der folgenden logischen Ausdrücke:\n",
    "1. `True and False`\n",
    "2. `not (True and False)`\n",
    "3. `True or (False and True)`\n",
    "4. `(5 > 3) and (10 <= 10)`\n",
    "5. `(5 == 5) or not (7 >= 9)`\n",
    "6. `\"Python\" in \"Python ist eine Programmiersprache\" and 3 < 2`"
   ]
  },
  {
   "cell_type": "markdown",
   "metadata": {},
   "source": [
    "### Aufgabe 6: Praxisaufgabe - Temperaturrechner\n",
    "\n",
    "Erstelle einen Temperaturrechner, der:\n",
    "1. Eine Temperatur in Celsius als String einliest\n",
    "2. Diese in Fahrenheit umrechnet (Formel: F = C * 9/5 + 32)\n",
    "3. Das Ergebnis formatiert ausgibt\n",
    "4. Zusätzlich anzeigt, ob es sich um eine Temperatur über dem Gefrierpunkt handelt"
   ]
  },
  {
   "cell_type": "markdown",
   "metadata": {},
   "source": [
    "### Aufgabe 7: Datentypen erkennen\n",
    "\n",
    "Bestimme den Datentyp und den Wert der folgenden Ausdrücke:\n",
    "1. `5 + 3.0`\n",
    "2. `\"5\" + \"3\"`\n",
    "3. `int(\"5\") + int(\"3\")`\n",
    "4. `str(5) + str(3)`\n",
    "5. `bool(\"False\")`\n",
    "6. `float(\"5\") / 2`\n",
    "7. `10 / 3`\n",
    "8. `10 // 3`"
   ]
  }
 ],
 "metadata": {
  "language_info": {
   "name": "python"
  }
 },
 "nbformat": 4,
 "nbformat_minor": 2
}
