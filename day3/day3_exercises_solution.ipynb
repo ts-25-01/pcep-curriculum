{
 "cells": [
  {
   "cell_type": "markdown",
   "metadata": {},
   "source": [
    "## Übungsaufgaben\n",
    "\n",
    "### Aufgabe 1: Wetterdaten\n",
    "\n",
    "Schreibe ein Programm, das die Temperatur in Celsius einliest und basierend darauf eine Wetterempfehlung gibt:\n",
    "\n",
    "- Unter 0°C: \"Es ist frostig. Trage warme Kleidung.\"\n",
    "- 0-10°C: \"Es ist kalt. Eine Jacke ist empfehlenswert.\"\n",
    "- 11-20°C: \"Angenehmes Wetter. Eine leichte Jacke könnte nützlich sein.\"\n",
    "- 21-30°C: \"Es ist warm. Leichte Kleidung ist ausreichend.\"\n",
    "- Über 30°C: \"Es ist heiß. Denke an Sonnenschutz und viel Wasser.\"\n"
   ]
  },
  {
   "cell_type": "code",
   "execution_count": null,
   "metadata": {
    "vscode": {
     "languageId": "plaintext"
    }
   },
   "outputs": [],
   "source": [
    "# Beispiellösung Aufgabe 1\n",
    "try:\n",
    "    temperatur = float(input(\"Gib die aktuelle Temperatur in Celsius ein: \"))\n",
    "    \n",
    "    if temperatur < 0:\n",
    "        empfehlung = \"Es ist frostig. Trage warme Kleidung.\"\n",
    "    elif temperatur <= 10:\n",
    "        empfehlung = \"Es ist kalt. Eine Jacke ist empfehlenswert.\"\n",
    "    elif temperatur <= 20:\n",
    "        empfehlung = \"Angenehmes Wetter. Eine leichte Jacke könnte nützlich sein.\"\n",
    "    elif temperatur <= 30:\n",
    "        empfehlung = \"Es ist warm. Leichte Kleidung ist ausreichend.\"\n",
    "    else:\n",
    "        empfehlung = \"Es ist heiß. Denke an Sonnenschutz und viel Wasser.\"\n",
    "    \n",
    "    print(f\"Bei {temperatur}°C: {empfehlung}\")\n",
    "except ValueError:\n",
    "    print(\"Bitte gib eine gültige Temperatur ein.\")"
   ]
  },
  {
   "cell_type": "markdown",
   "metadata": {},
   "source": [
    "### Aufgabe 2: Gehaltsrechner\n",
    "\n",
    "Schreibe ein Programm, das das Bruttogehalt eines Mitarbeiters einliest und dann den Nettolohn berechnet. Verwende dafür folgende Steuersätze:\n",
    "\n",
    "- Bis 1000€: 0% Steuer\n",
    "- 1001€ bis 2500€: 15% Steuer\n",
    "- 2501€ bis 4000€: 25% Steuer\n",
    "- Über 4000€: 40% Steuer\n"
   ]
  },
  {
   "cell_type": "code",
   "execution_count": null,
   "metadata": {
    "vscode": {
     "languageId": "plaintext"
    }
   },
   "outputs": [],
   "source": [
    "# Beispiellösung Aufgabe 2\n",
    "try:\n",
    "    bruttogehalt = float(input(\"Gib das Bruttogehalt ein (in Euro): \"))\n",
    "    \n",
    "    if bruttogehalt <= 0:\n",
    "        print(\"Das Gehalt muss positiv sein.\")\n",
    "    else:\n",
    "        if bruttogehalt <= 1000:\n",
    "            steuersatz = 0\n",
    "        elif bruttogehalt <= 2500:\n",
    "            steuersatz = 15\n",
    "        elif bruttogehalt <= 4000:\n",
    "            steuersatz = 25\n",
    "        else:\n",
    "            steuersatz = 40\n",
    "        \n",
    "        steuer = bruttogehalt * steuersatz / 100\n",
    "        nettogehalt = bruttogehalt - steuer\n",
    "        \n",
    "        print(f\"Bruttogehalt: {bruttogehalt:.2f} €\")\n",
    "        print(f\"Steuersatz: {steuersatz}%\")\n",
    "        print(f\"Steuer: {steuer:.2f} €\")\n",
    "        print(f\"Nettogehalt: {nettogehalt:.2f} €\")\n",
    "except ValueError:\n",
    "    print(\"Bitte gib einen gültigen Geldbetrag ein.\")"
   ]
  },
  {
   "cell_type": "markdown",
   "metadata": {},
   "source": [
    "### Aufgabe 3: Schaltjahrprüfung\n",
    "\n",
    "Schreibe ein Programm, das prüft, ob ein eingegebenes Jahr ein Schaltjahr ist. Ein Jahr ist ein Schaltjahr, wenn:\n",
    "\n",
    "- Es durch 4 teilbar ist UND\n",
    "- Es nicht durch 100 teilbar ist ODER es durch 400 teilbar ist\n"
   ]
  },
  {
   "cell_type": "code",
   "execution_count": null,
   "metadata": {
    "vscode": {
     "languageId": "plaintext"
    }
   },
   "outputs": [],
   "source": [
    "# Beispiellösung Aufgabe 3\n",
    "try:\n",
    "    jahr = int(input(\"Gib ein Jahr ein: \"))\n",
    "    \n",
    "    if jahr <= 0:\n",
    "        print(\"Bitte gib ein positives Jahr ein.\")\n",
    "    else:\n",
    "        if (jahr % 4 == 0 and jahr % 100 != 0) or (jahr % 400 == 0):\n",
    "            print(f\"{jahr} ist ein Schaltjahr.\")\n",
    "        else:\n",
    "            print(f\"{jahr} ist kein Schaltjahr.\")\n",
    "except ValueError:\n",
    "    print(\"Bitte gib eine gültige Jahreszahl ein.\")"
   ]
  },
  {
   "cell_type": "markdown",
   "metadata": {},
   "source": [
    "### Aufgabe 4: Notenverwaltung\n",
    "\n",
    "Schreibe ein Programm, das Noten einliest (1-6) und den Durchschnitt berechnet. Nach jeder Eingabe soll der Benutzer gefragt werden, ob er eine weitere Note eingeben möchte.\n"
   ]
  },
  {
   "cell_type": "code",
   "execution_count": null,
   "metadata": {
    "vscode": {
     "languageId": "plaintext"
    }
   },
   "outputs": [],
   "source": [
    "# Beispiellösung Aufgabe 4\n",
    "noten = []\n",
    "\n",
    "while True:\n",
    "    try:\n",
    "        note = float(input(\"Gib eine Note ein (1-6): \"))\n",
    "        \n",
    "        if 1 <= note <= 6:\n",
    "            noten.append(note)\n",
    "            print(f\"Note {note} wurde hinzugefügt.\")\n",
    "        else:\n",
    "            print(\"Die Note muss zwischen 1 und 6 liegen.\")\n",
    "            continue\n",
    "        \n",
    "        weitere_note = input(\"Möchtest du eine weitere Note eingeben? (j/n): \").lower()\n",
    "        if weitere_note != \"j\":\n",
    "            break\n",
    "    except ValueError:\n",
    "        print(\"Bitte gib eine gültige Note ein.\")\n",
    "\n",
    "if noten:\n",
    "    anzahl = len(noten)\n",
    "    summe = sum(noten)\n",
    "    durchschnitt = summe / anzahl\n",
    "    \n",
    "    print(f\"\\nAnzahl der Noten: {anzahl}\")\n",
    "    print(f\"Notendurchschnitt: {durchschnitt:.2f}\")\n",
    "    \n",
    "    if durchschnitt <= 1.5:\n",
    "        bewertung = \"sehr gut\"\n",
    "    elif durchschnitt <= 2.5:\n",
    "        bewertung = \"gut\"\n",
    "    elif durchschnitt <= 3.5:\n",
    "        bewertung = \"befriedigend\"\n",
    "    elif durchschnitt <= 4.5:\n",
    "        bewertung = \"ausreichend\"\n",
    "    elif durchschnitt <= 5.5:\n",
    "        bewertung = \"mangelhaft\"\n",
    "    else:\n",
    "        bewertung = \"ungenügend\"\n",
    "    \n",
    "    print(f\"Bewertung: {bewertung}\")\n",
    "else:\n",
    "    print(\"Es wurden keine Noten eingegeben.\")"
   ]
  },
  {
   "cell_type": "markdown",
   "metadata": {},
   "source": [
    "### Aufgabe 5: Textanalyse\n",
    "\n",
    "Schreibe ein Programm, das einen eingegebenen Text analysiert und ausgibt:\n",
    "\n",
    "- Anzahl der Zeichen (mit und ohne Leerzeichen)\n",
    "- Anzahl der Wörter\n",
    "- Ob der Text ein Palindrom ist (vorwärts und rückwärts gelesen gleich, z.B. \"Anna\")\n",
    "- Ob der Text mit einem Großbuchstaben beginnt\n",
    "- Ob der Text mit einem Satzzeichen endet (., !, ?)"
   ]
  },
  {
   "cell_type": "code",
   "execution_count": null,
   "metadata": {
    "vscode": {
     "languageId": "plaintext"
    }
   },
   "outputs": [],
   "source": [
    "# Beispiellösung Aufgabe 5\n",
    "text = input(\"Gib einen Text ein: \")\n",
    "\n",
    "# Anzahl der Zeichen\n",
    "zeichen_mit_leerzeichen = len(text)\n",
    "zeichen_ohne_leerzeichen = len(text.replace(\" \", \"\"))\n",
    "\n",
    "# Anzahl der Wörter\n",
    "woerter = len(text.split())\n",
    "\n",
    "# Palindrom-Prüfung\n",
    "text_ohne_leerzeichen = text.replace(\" \", \"\").lower()\n",
    "ist_palindrom = text_ohne_leerzeichen == text_ohne_leerzeichen[::-1]\n",
    "\n",
    "# Beginnt mit Großbuchstaben?\n",
    "beginnt_mit_grossbuchstaben = text and text[0].isupper()\n",
    "\n",
    "# Endet mit Satzzeichen?\n",
    "satzzeichen = \".!?\"\n",
    "endet_mit_satzzeichen = text and text[-1] in satzzeichen\n",
    "\n",
    "# Ausgabe der Analyse\n",
    "print(\"\\nTextanalyse:\")\n",
    "print(f\"Anzahl der Zeichen (mit Leerzeichen): {zeichen_mit_leerzeichen}\")\n",
    "print(f\"Anzahl der Zeichen (ohne Leerzeichen): {zeichen_ohne_leerzeichen}\")\n",
    "print(f\"Anzahl der Wörter: {woerter}\")\n",
    "print(f\"Ist ein Palindrom: {'Ja' if ist_palindrom else 'Nein'}\")\n",
    "print(f\"Beginnt mit Großbuchstaben: {'Ja' if beginnt_mit_grossbuchstaben else 'Nein'}\")\n",
    "print(f\"Endet mit Satzzeichen: {'Ja' if endet_mit_satzzeichen else 'Nein'}\")"
   ]
  },
  {
   "cell_type": "code",
   "execution_count": null,
   "metadata": {
    "vscode": {
     "languageId": "plaintext"
    }
   },
   "outputs": [],
   "source": [
    "### Aufgabe 7: Bankkonto-Simulator\n",
    "\n",
    "Erstelle einen einfachen Bankkonto-Simulator, der folgende Funktionen bietet:\n",
    "- Kontostand anzeigen\n",
    "- Geld einzahlen\n",
    "- Geld abheben\n",
    "- Programm beenden\n"
   ]
  },
  {
   "cell_type": "code",
   "execution_count": null,
   "metadata": {
    "vscode": {
     "languageId": "plaintext"
    }
   },
   "outputs": [],
   "source": [
    "# Beispiellösung Aufgabe 7\n",
    "print(\"Bankkonto-Simulator\")\n",
    "print(\"===================\")\n",
    "\n",
    "# Initialer Kontostand\n",
    "kontostand = 1000.0\n",
    "\n",
    "while True:\n",
    "    # Menü anzeigen\n",
    "    print(f\"\\nAktueller Kontostand: {kontostand:.2f} €\")\n",
    "    print(\"\\nWas möchtest du tun?\")\n",
    "    print(\"1. Geld einzahlen\")\n",
    "    print(\"2. Geld abheben\")\n",
    "    print(\"3. Kontostand anzeigen\")\n",
    "    print(\"4. Beenden\")\n",
    "\n",
    "    auswahl = input(\"\\nDeine Auswahl (1-4): \")\n",
    "\n",
    "    # Entscheidungsstruktur basierend auf der Benutzerauswahl\n",
    "    if auswahl == \"1\":\n",
    "        try:\n",
    "            betrag = float(input(\"Einzahlungsbetrag in €: \"))\n",
    "            if betrag > 0:\n",
    "                kontostand += betrag\n",
    "                print(f\"{betrag:.2f} € wurden eingezahlt.\")\n",
    "            else:\n",
    "                print(\"Der Betrag muss positiv sein.\")\n",
    "        except ValueError:\n",
    "            print(\"Bitte gib einen gültigen Betrag ein.\")\n",
    "\n",
    "    elif auswahl == \"2\":\n",
    "        try:\n",
    "            betrag = float(input(\"Abhebungsbetrag in €: \"))\n",
    "            if betrag > 0:\n",
    "                if betrag <= kontostand:\n",
    "                    kontostand -= betrag\n",
    "                    print(f\"{betrag:.2f} € wurden abgehoben.\")\n",
    "                else:\n",
    "                    print(\"Nicht genügend Guthaben!\")\n",
    "            else:\n",
    "                print(\"Der Betrag muss positiv sein.\")\n",
    "        except ValueError:\n",
    "            print(\"Bitte gib einen gültigen Betrag ein.\")\n",
    "\n",
    "    elif auswahl == \"3\":\n",
    "        print(f\"Dein Kontostand beträgt {kontostand:.2f} €.\")\n",
    "\n",
    "    elif auswahl == \"4\":\n",
    "        print(\"Vielen Dank für die Nutzung des Bankkonto-Simulators.\")\n",
    "        break\n",
    "\n",
    "    else:\n",
    "        print(\"Ungültige Auswahl. Bitte wähle 1-4.\")"
   ]
  },
  {
   "cell_type": "markdown",
   "metadata": {},
   "source": []
  },
  {
   "cell_type": "markdown",
   "metadata": {},
   "source": []
  },
  {
   "cell_type": "code",
   "execution_count": null,
   "metadata": {
    "vscode": {
     "languageId": "plaintext"
    }
   },
   "outputs": [],
   "source": []
  }
 ],
 "metadata": {
  "language_info": {
   "name": "python"
  }
 },
 "nbformat": 4,
 "nbformat_minor": 2
}
