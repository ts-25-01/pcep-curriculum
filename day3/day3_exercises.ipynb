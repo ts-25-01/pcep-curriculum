{
 "cells": [
  {
   "cell_type": "markdown",
   "metadata": {},
   "source": [
    "## Übungsaufgaben\n",
    "\n",
    "### Aufgabe 1: Wetterdaten\n",
    "\n",
    "Schreibe ein Programm, das die Temperatur in Celsius einliest und basierend darauf eine Wetterempfehlung gibt:\n",
    "\n",
    "- Unter 0°C: \"Es ist frostig. Trage warme Kleidung.\"\n",
    "- 0-10°C: \"Es ist kalt. Eine Jacke ist empfehlenswert.\"\n",
    "- 11-20°C: \"Angenehmes Wetter. Eine leichte Jacke könnte nützlich sein.\"\n",
    "- 21-30°C: \"Es ist warm. Leichte Kleidung ist ausreichend.\"\n",
    "- Über 30°C: \"Es ist heiß. Denke an Sonnenschutz und viel Wasser.\"\n"
   ]
  },
  {
   "cell_type": "code",
   "execution_count": null,
   "metadata": {},
   "outputs": [],
   "source": []
  },
  {
   "cell_type": "markdown",
   "metadata": {},
   "source": [
    "### Aufgabe 2: Gehaltsrechner\n",
    "\n",
    "Schreibe ein Programm, das das Bruttogehalt eines Mitarbeiters einliest und dann den Nettolohn berechnet. Verwende dafür folgende Steuersätze:\n",
    "\n",
    "- Bis 1000€: 0% Steuer\n",
    "- 1001€ bis 2500€: 15% Steuer\n",
    "- 2501€ bis 4000€: 25% Steuer\n",
    "- Über 4000€: 40% Steuer\n"
   ]
  },
  {
   "cell_type": "code",
   "execution_count": null,
   "metadata": {},
   "outputs": [],
   "source": []
  },
  {
   "cell_type": "markdown",
   "metadata": {},
   "source": [
    "### Aufgabe 3: Schaltjahrprüfung\n",
    "\n",
    "Schreibe ein Programm, das prüft, ob ein eingegebenes Jahr ein Schaltjahr ist. Ein Jahr ist ein Schaltjahr, wenn:\n",
    "\n",
    "- Es durch 4 teilbar ist UND\n",
    "- Es nicht durch 100 teilbar ist ODER es durch 400 teilbar ist\n"
   ]
  },
  {
   "cell_type": "code",
   "execution_count": null,
   "metadata": {},
   "outputs": [],
   "source": []
  },
  {
   "cell_type": "markdown",
   "metadata": {},
   "source": [
    "### Aufgabe 4: Notenverwaltung\n",
    "\n",
    "Schreibe ein Programm, das Noten einliest (1-6) und den Durchschnitt berechnet. Nach jeder Eingabe soll der Benutzer gefragt werden, ob er eine weitere Note eingeben möchte.\n"
   ]
  },
  {
   "cell_type": "code",
   "execution_count": null,
   "metadata": {},
   "outputs": [],
   "source": []
  },
  {
   "cell_type": "markdown",
   "metadata": {},
   "source": [
    "### Aufgabe 5: Textanalyse\n",
    "\n",
    "Schreibe ein Programm, das einen eingegebenen Text analysiert und ausgibt:\n",
    "\n",
    "- Anzahl der Zeichen (mit und ohne Leerzeichen)\n",
    "- Anzahl der Wörter\n",
    "- Ob der Text ein Palindrom ist (vorwärts und rückwärts gelesen gleich, z.B. \"Anna\")\n",
    "- Ob der Text mit einem Großbuchstaben beginnt\n",
    "- Ob der Text mit einem Satzzeichen endet (., !, ?)"
   ]
  },
  {
   "cell_type": "code",
   "execution_count": null,
   "metadata": {},
   "outputs": [],
   "source": []
  },
  {
   "cell_type": "markdown",
   "metadata": {},
   "source": [
    "### Aufgabe 6: Bankkonto-Simulator\n",
    "\n",
    "Erstelle einen einfachen Bankkonto-Simulator, der folgende Funktionen bietet:\n",
    "- Kontostand anzeigen\n",
    "- Geld einzahlen\n",
    "- Geld abheben\n",
    "- Programm beenden\n"
   ]
  },
  {
   "cell_type": "code",
   "execution_count": null,
   "metadata": {},
   "outputs": [],
   "source": []
  }
 ],
 "metadata": {
  "kernelspec": {
   "display_name": "Python 3",
   "language": "python",
   "name": "python3"
  },
  "language_info": {
   "name": "python",
   "version": "3.13.2"
  }
 },
 "nbformat": 4,
 "nbformat_minor": 2
}
